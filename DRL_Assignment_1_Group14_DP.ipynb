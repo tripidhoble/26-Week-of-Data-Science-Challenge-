{
  "cells": [
    {
      "cell_type": "markdown",
      "metadata": {
        "id": "view-in-github",
        "colab_type": "text"
      },
      "source": [
        "<a href=\"https://colab.research.google.com/github/tripidhoble/26-Week-of-Data-Science-Challenge-/blob/master/DRL_Assignment_1_Group14_DP.ipynb\" target=\"_parent\"><img src=\"https://colab.research.google.com/assets/colab-badge.svg\" alt=\"Open In Colab\"/></a>"
      ]
    },
    {
      "cell_type": "markdown",
      "id": "0e826906",
      "metadata": {
        "id": "0e826906"
      },
      "source": [
        "### The Smart Supplier: Optimizing Orders in a Fluctuating Market - 6 Marks"
      ]
    },
    {
      "cell_type": "markdown",
      "id": "2beffcce",
      "metadata": {
        "id": "2beffcce"
      },
      "source": [
        "Develop a reinforcement learning agent using dynamic programming to help a Smart Supplier decide which products to manufacture and sell each day to maximize profit. The agent must learn the optimal policy for choosing daily production quantities, considering its limited raw materials and the unpredictable daily demand and selling prices for different products.\n",
        "\n",
        "#### **Scenario**\n",
        " A small Smart Supplier manufactures two simple products: Product A and Product B. Each day, the supplier has a limited amount of raw material. The challenge is that the market demand and selling price for Product A and Product B change randomly each day, making some products more profitable than others at different times. The supplier needs to decide how much of each product to produce to maximize profit while managing their limited raw material.\n",
        "\n",
        "#### **Objective**\n",
        "The Smart Supplier's agent must learn the optimal policy π∗ using dynamic programming (Value Iteration or Policy Iteration) to decide how many units of Product A and Product B to produce each day to maximize the total profit over the fixed number of days, given the daily changing market conditions and limited raw material."
      ]
    },
    {
      "cell_type": "code",
      "source": [
        "# import required libraries\n",
        "import pandas as pd\n",
        "import numpy as np\n",
        "import itertools\n",
        "import random\n",
        "from collections import defaultdict\n",
        "import matplotlib.pyplot as plt"
      ],
      "metadata": {
        "id": "91_hq1nyM4-o"
      },
      "id": "91_hq1nyM4-o",
      "execution_count": 53,
      "outputs": []
    },
    {
      "cell_type": "markdown",
      "source": [
        "####  **1. Custom Environment Creation: Design and implement the \"Smart Supplier\" environment, defining the product costs, daily market shifts, raw material limits, and rewards. (1 Mark)**"
      ],
      "metadata": {
        "id": "o_TbpyDPO2gI"
      },
      "id": "o_TbpyDPO2gI"
    },
    {
      "cell_type": "markdown",
      "id": "15f4feac",
      "metadata": {
        "id": "15f4feac"
      },
      "source": [
        "### --- 1. Custom Environment Creation (SmartSupplierEnv) --- ( 1 Mark )"
      ]
    },
    {
      "cell_type": "code",
      "execution_count": 54,
      "id": "89a4a087",
      "metadata": {
        "id": "89a4a087"
      },
      "outputs": [],
      "source": [
        "# Define market states and their product prices\n",
        "# Structure: {Market_State_ID: {'A_price': X, 'B_price': Y}}\n",
        "# Define product raw material costs\n",
        "# Define actions: (num_A, num_B, raw_material_cost_precalculated)\n",
        "        # Action ID mapping:\n",
        "        # 0: Produce_2A_0B\n",
        "        # 1: Produce_1A_2B\n",
        "        # 2: Produce_0A_5B\n",
        "        # 3: Produce_3A_0B\n",
        "        # 4: Do_Nothing\n",
        "\n",
        " # Define state space dimensions\n",
        "        # Current Day: 1 to num_days\n",
        "        # Current Raw Material: 0 to initial_raw_material\n",
        "        # Current Market State: 1 or 2\n",
        "\n",
        "# get reward function\n",
        "\n",
        "\n",
        "class SmartSupplierEnv:\n",
        "    def __init__(self, num_days=5, initial_rm=10, fixed_market=None):\n",
        "        self.num_days = num_days\n",
        "        self.initial_rm = initial_rm\n",
        "        self.product_cost = {'A': 2, 'B': 1}\n",
        "        self.market_states = {\n",
        "            1: {'A_price': 8, 'B_price': 2},\n",
        "            2: {'A_price': 3, 'B_price': 5},\n",
        "        }\n",
        "        self.actions = {\n",
        "            0: (2, 0),\n",
        "            1: (1, 2),\n",
        "            2: (0, 5),\n",
        "            3: (3, 0),\n",
        "            4: (0, 0),\n",
        "        }\n",
        "        self.fixed_market_state(fixed_market)\n",
        "        self.state_space = list(itertools.product(range(num_days), range(initial_rm + 1), list(self.market_states.keys())))\n",
        "        self.action_space = list(self.actions.keys())\n",
        "\n",
        "\n",
        "    def fixed_market_state(self, fixed_market):\n",
        "        if fixed_market:\n",
        "            if fixed_market not in self.market_states.keys():\n",
        "                raise Exception(\"Invalid market fixed_market!\")\n",
        "            self.market_states = {fixed_market: self.market_states[fixed_market]}\n",
        "            print(\"market_states: \",self.market_states)\n",
        "\n",
        "        return None\n",
        "\n",
        "\n",
        "    def transition(self, state, action):\n",
        "      day, rm, market_state = state\n",
        "      a_units, b_units = self.actions[action]\n",
        "      cost = a_units * self.product_cost['A'] + b_units * self.product_cost['B']\n",
        "      reward = 0\n",
        "\n",
        "      if cost <= rm:\n",
        "          prices = self.market_states[market_state]\n",
        "          reward = a_units * prices['A_price'] + b_units * prices['B_price']\n",
        "\n",
        "      next_day = day + 1\n",
        "      done = next_day >= self.num_days\n",
        "\n",
        "      if not done:\n",
        "          # Return both possible market states for planning (deterministically)\n",
        "          return [\n",
        "              ((next_day, self.initial_rm, 1), reward, done),\n",
        "              ((next_day, self.initial_rm, 2), reward, done)\n",
        "          ]\n",
        "      else:\n",
        "          return [(None, reward, True)]\n",
        "\n",
        "    def transition_deterministic(self, state, action, next_market):\n",
        "      day, rm, market_state = state\n",
        "      a_units, b_units = self.actions[action]\n",
        "      cost = a_units * self.product_cost['A'] + b_units * self.product_cost['B']\n",
        "      reward = 0\n",
        "\n",
        "      if cost <= rm:\n",
        "          prices = self.market_states[market_state]\n",
        "          reward = a_units * prices['A_price'] + b_units * prices['B_price']\n",
        "\n",
        "      next_day = day + 1\n",
        "      done = next_day >= self.num_days\n",
        "      if not done:\n",
        "          next_state = (next_day, self.initial_rm, next_market)\n",
        "      else:\n",
        "          next_state = None\n",
        "\n",
        "      return next_state, reward, done\n",
        "\n",
        "\n",
        "    def reset(self):\n",
        "        self.current_day = 0\n",
        "        self.current_rm = self.initial_rm\n",
        "        self.current_market = random.choice(list(self.market_states.keys()))\n",
        "        self.done = False\n",
        "        return (self.current_day, self.current_rm, self.current_market)\n",
        "\n",
        "    def step(self, action):\n",
        "        if self.done:\n",
        "            raise Exception(\"Episode has ended. Please reset the environment.\")\n",
        "\n",
        "        a_units, b_units = self.actions[action]\n",
        "        cost = a_units * self.product_cost['A'] + b_units * self.product_cost['B']\n",
        "        reward = 0\n",
        "\n",
        "        if cost <= self.current_rm:\n",
        "            prices = self.market_states[self.current_market]\n",
        "            reward = a_units * prices['A_price'] + b_units * prices['B_price']\n",
        "            self.current_rm -= cost\n",
        "\n",
        "        self.current_day += 1\n",
        "        self.done = self.current_day >= self.num_days\n",
        "\n",
        "        if not self.done:\n",
        "            self.current_market = random.choice(list(self.market_states.keys()))\n",
        "            self.current_rm = self.initial_rm\n",
        "            next_state = (self.current_day, self.initial_rm, self.current_market)\n",
        "        else:\n",
        "            next_state = None\n",
        "\n",
        "\n",
        "        return next_state, reward, self.done\n"
      ]
    },
    {
      "cell_type": "markdown",
      "source": [
        "#### **2. Dynamic Programming Implementation: Implement dynamic  programming (Value Iteration or Policy Iteration) to find the optimal policy.  Crucially, the policy will be a function of the current day, raw material, and market state.  (2 Marks)**"
      ],
      "metadata": {
        "id": "ApOC1scEPlEa"
      },
      "id": "ApOC1scEPlEa"
    },
    {
      "cell_type": "markdown",
      "id": "c89b2487",
      "metadata": {
        "id": "c89b2487"
      },
      "source": [
        "### --- 2. Dynamic Programming Implementation (Value Iteration or Policy Iteration) --- (2 Mark)"
      ]
    },
    {
      "cell_type": "code",
      "execution_count": 55,
      "id": "027db857",
      "metadata": {
        "id": "027db857"
      },
      "outputs": [],
      "source": [
        "# Value Iteration function\n",
        "class ValueIterationAgent:\n",
        "    def __init__(self, env, gamma=1.0, theta=1e-4):\n",
        "        self.env = env\n",
        "        self.gamma = gamma\n",
        "        self.theta = theta\n",
        "        self.V = defaultdict(float)\n",
        "        self.policy = {}\n",
        "\n",
        "    def run(self):\n",
        "        while True:\n",
        "            delta = 0\n",
        "            for state in self.env.state_space:\n",
        "                if state[0] >= self.env.num_days:\n",
        "                    continue\n",
        "                max_value = float('-inf')\n",
        "                best_action = None\n",
        "                for action in self.env.action_space:\n",
        "                    total = 0\n",
        "                    for next_state, reward, done in self.env.transition(state, action):\n",
        "                      if next_state is None:\n",
        "                          total += 0.5 * reward\n",
        "                      else:\n",
        "                          total += 0.5 * (reward + self.gamma * self.V[next_state])\n",
        "                    if total > max_value:\n",
        "                        max_value = total\n",
        "                        best_action = action\n",
        "                delta = max(delta, abs(max_value - self.V[state]))\n",
        "                self.V[state] = max_value\n",
        "                self.policy[state] = best_action\n",
        "            print(f\"delta: {delta}, theta: {self.theta}\")\n",
        "            if delta < self.theta:\n",
        "                break\n",
        "        return self.policy, self.V\n"
      ]
    },
    {
      "cell_type": "code",
      "source": [
        "# Policy Iteration function\n",
        "class PolicyIterationAgent:\n",
        "    def __init__(self, env, gamma=1.0):\n",
        "        self.env = env\n",
        "        self.gamma = gamma\n",
        "        self.V = defaultdict(float)\n",
        "        self.policy = {s: random.choice(env.action_space) for s in env.state_space if s[0] < env.num_days}\n",
        "\n",
        "    def run(self):\n",
        "        is_policy_stable = False\n",
        "        while not is_policy_stable:\n",
        "            # Policy Evaluation\n",
        "            while True:\n",
        "                delta = 0\n",
        "                for state in self.env.state_space:\n",
        "                    if state[0] >= self.env.num_days:\n",
        "                        continue\n",
        "                    v = self.V[state]\n",
        "                    action = self.policy[state]\n",
        "                    total = 0\n",
        "                    for next_state, reward, done in self.env.transition(state, action):\n",
        "                      if next_state is None:\n",
        "                          total += 0.5 * reward\n",
        "                      else:\n",
        "                          total += 0.5 * (reward + self.gamma * self.V[next_state])\n",
        "                    self.V[state] = total\n",
        "                    delta = max(delta, abs(v - self.V[state]))\n",
        "                print(f\"delta: {delta}\")\n",
        "                if delta < 1e-4:\n",
        "                    break\n",
        "\n",
        "            # Policy Improvement\n",
        "            is_policy_stable = True\n",
        "            for state in self.env.state_space:\n",
        "                if state[0] >= self.env.num_days:\n",
        "                    continue\n",
        "                old_action = self.policy[state]\n",
        "                best_action = old_action\n",
        "                best_value = float('-inf')\n",
        "                for action in self.env.action_space:\n",
        "                    total = 0\n",
        "                    for next_market in list(self.env.market_states.keys()):\n",
        "                        next_state, reward, done = self.env.transition_deterministic(state, action, next_market)\n",
        "                        if next_state is None:\n",
        "                            total += reward\n",
        "                        else:\n",
        "                            total += 0.5 * (reward + self.gamma * self.V[next_state])\n",
        "                    if total > best_value:\n",
        "                        best_value = total\n",
        "                        best_action = action\n",
        "                self.policy[state] = best_action\n",
        "                if old_action != best_action:\n",
        "                    is_policy_stable = False\n",
        "        return self.policy, self.V\n"
      ],
      "metadata": {
        "id": "J-fEPm-KLKZD"
      },
      "id": "J-fEPm-KLKZD",
      "execution_count": 56,
      "outputs": []
    },
    {
      "cell_type": "code",
      "execution_count": 57,
      "id": "0e6570fe",
      "metadata": {
        "id": "0e6570fe",
        "colab": {
          "base_uri": "https://localhost:8080/"
        },
        "outputId": "ae37bf22-11c7-4323-a6fa-92d2f4792b22"
      },
      "outputs": [
        {
          "output_type": "stream",
          "name": "stdout",
          "text": [
            "\n",
            "Instantiating Value Iteration ...\n",
            "delta: 25.0, theta: 0.0001\n",
            "delta: 24.5, theta: 0.0001\n",
            "delta: 24.5, theta: 0.0001\n",
            "delta: 24.5, theta: 0.0001\n",
            "delta: 12.25, theta: 0.0001\n",
            "delta: 0, theta: 0.0001\n",
            "Value Iteration run Successfully.\n",
            "\n",
            "Instantiating Policy Iteration ...\n",
            "delta: 25.0\n",
            "delta: 12.5\n",
            "delta: 12.5\n",
            "delta: 12.5\n",
            "delta: 4.0\n",
            "delta: 0\n",
            "delta: 25.0\n",
            "delta: 15.5\n",
            "delta: 15.5\n",
            "delta: 12.0\n",
            "delta: 8.25\n",
            "delta: 0\n",
            "Policy Iteration run Successfully.\n"
          ]
        }
      ],
      "source": [
        "# --- Main Execution ---\n",
        "# Instantiate environment\n",
        "env = SmartSupplierEnv(num_days=5, initial_rm=10)\n",
        "\n",
        "# Run Value Iteration\n",
        "print(\"\\nInstantiating Value Iteration ...\")\n",
        "vi_agent = ValueIterationAgent(env, gamma=1.0, theta=1e-4)\n",
        "vi_policy, vi_values = vi_agent.run()\n",
        "print(\"Value Iteration run Successfully.\")\n",
        "\n",
        "# Run Policy Iteration\n",
        "print(\"\\nInstantiating Policy Iteration ...\")\n",
        "pi_agent = PolicyIterationAgent(env, gamma=1.0)\n",
        "pi_policy, pi_values = pi_agent.run()\n",
        "print(\"Policy Iteration run Successfully.\")\n"
      ]
    },
    {
      "cell_type": "markdown",
      "source": [
        " #### **3. Optimal Policy Analysis: Analyze the learned optimal policy Discuss how the policy changes based upon: (1 Mark)**  \n",
        " i. The current market state (like does it always favor Product A in Market State 1).  \n",
        " ii. The remaining raw material (does it produce more of the cheaper product if raw material is low).   \n",
        " iii. The remaining days (does it become more aggressive on the last day)."
      ],
      "metadata": {
        "id": "eouU_hiLQMiK"
      },
      "id": "eouU_hiLQMiK"
    },
    {
      "cell_type": "markdown",
      "id": "b39cfa71",
      "metadata": {
        "id": "b39cfa71"
      },
      "source": [
        "#### --- 3. Simulation and Policy Analysis ---  ( 1 Mark)"
      ]
    },
    {
      "cell_type": "code",
      "source": [
        "def action_to_str(action_idx):\n",
        "    action_map = {\n",
        "        0: \"2A_0B\",\n",
        "        1: \"1A_2B\",\n",
        "        2: \"0A_5B\",\n",
        "        3: \"3A_0B\",\n",
        "        4: \"0A_0B\"\n",
        "    }\n",
        "    return action_map.get(action_idx, \"Invalid\")\n",
        "\n",
        "def print_policy_grid_table(policy, market_state, num_days=5, rm_array=None, day_array=None):\n",
        "    data = []\n",
        "    rm_array = rm_array if rm_array else range(11)\n",
        "    day_array = day_array if day_array else range(num_days)\n",
        "    for rm in rm_array:  # raw material from 0 to 10\n",
        "        row = {}\n",
        "        row[\"Raw Material\"] = rm\n",
        "        for day in day_array:\n",
        "            state = (day, rm, market_state)\n",
        "            if state in policy:\n",
        "                row[f\"Day {day}\"] = action_to_str(policy[state])\n",
        "            else:\n",
        "                row[f\"Day {day}\"] = \"---\"\n",
        "        data.append(row)\n",
        "    df = pd.DataFrame(data)\n",
        "\n",
        "    print(f\"\\nOptimal Policy Grid for Market State: '{market_state}'\\n\")\n",
        "    print(df.to_markdown(index=False))"
      ],
      "metadata": {
        "id": "Y878AizoRN-t"
      },
      "id": "Y878AizoRN-t",
      "execution_count": 58,
      "outputs": []
    },
    {
      "cell_type": "markdown",
      "source": [
        "#### i. Policy Behavior Based on Market State\n",
        "Check if Product A is consistently favored in Market State 1 (A price high), and B in Market State 2 (B price high)."
      ],
      "metadata": {
        "id": "G1RvnchvRb08"
      },
      "id": "G1RvnchvRb08"
    },
    {
      "cell_type": "code",
      "source": [
        "print_policy_grid_table(pi_policy, market_state=1)\n",
        "print_policy_grid_table(pi_policy, market_state=2)"
      ],
      "metadata": {
        "id": "Zgx_1wTvAX8d",
        "outputId": "02ba43ba-1f81-411e-89a0-b647777179bc",
        "colab": {
          "base_uri": "https://localhost:8080/"
        }
      },
      "id": "Zgx_1wTvAX8d",
      "execution_count": 59,
      "outputs": [
        {
          "output_type": "stream",
          "name": "stdout",
          "text": [
            "\n",
            "Optimal Policy Grid for Market State: '1'\n",
            "\n",
            "|   Raw Material | Day 0   | Day 1   | Day 2   | Day 3   | Day 4   |\n",
            "|---------------:|:--------|:--------|:--------|:--------|:--------|\n",
            "|              0 | 2A_0B   | 2A_0B   | 2A_0B   | 2A_0B   | 2A_0B   |\n",
            "|              1 | 2A_0B   | 2A_0B   | 2A_0B   | 2A_0B   | 2A_0B   |\n",
            "|              2 | 2A_0B   | 2A_0B   | 2A_0B   | 2A_0B   | 2A_0B   |\n",
            "|              3 | 2A_0B   | 2A_0B   | 2A_0B   | 2A_0B   | 2A_0B   |\n",
            "|              4 | 2A_0B   | 2A_0B   | 2A_0B   | 2A_0B   | 2A_0B   |\n",
            "|              5 | 2A_0B   | 2A_0B   | 2A_0B   | 2A_0B   | 2A_0B   |\n",
            "|              6 | 3A_0B   | 3A_0B   | 3A_0B   | 3A_0B   | 3A_0B   |\n",
            "|              7 | 3A_0B   | 3A_0B   | 3A_0B   | 3A_0B   | 3A_0B   |\n",
            "|              8 | 3A_0B   | 3A_0B   | 3A_0B   | 3A_0B   | 3A_0B   |\n",
            "|              9 | 3A_0B   | 3A_0B   | 3A_0B   | 3A_0B   | 3A_0B   |\n",
            "|             10 | 3A_0B   | 3A_0B   | 3A_0B   | 3A_0B   | 3A_0B   |\n",
            "\n",
            "Optimal Policy Grid for Market State: '2'\n",
            "\n",
            "|   Raw Material | Day 0   | Day 1   | Day 2   | Day 3   | Day 4   |\n",
            "|---------------:|:--------|:--------|:--------|:--------|:--------|\n",
            "|              0 | 2A_0B   | 2A_0B   | 2A_0B   | 2A_0B   | 2A_0B   |\n",
            "|              1 | 2A_0B   | 2A_0B   | 2A_0B   | 2A_0B   | 2A_0B   |\n",
            "|              2 | 2A_0B   | 2A_0B   | 2A_0B   | 2A_0B   | 2A_0B   |\n",
            "|              3 | 2A_0B   | 2A_0B   | 2A_0B   | 2A_0B   | 2A_0B   |\n",
            "|              4 | 1A_2B   | 1A_2B   | 1A_2B   | 1A_2B   | 1A_2B   |\n",
            "|              5 | 0A_5B   | 0A_5B   | 0A_5B   | 0A_5B   | 0A_5B   |\n",
            "|              6 | 0A_5B   | 0A_5B   | 0A_5B   | 0A_5B   | 0A_5B   |\n",
            "|              7 | 0A_5B   | 0A_5B   | 0A_5B   | 0A_5B   | 0A_5B   |\n",
            "|              8 | 0A_5B   | 0A_5B   | 0A_5B   | 0A_5B   | 0A_5B   |\n",
            "|              9 | 0A_5B   | 0A_5B   | 0A_5B   | 0A_5B   | 0A_5B   |\n",
            "|             10 | 0A_5B   | 0A_5B   | 0A_5B   | 0A_5B   | 0A_5B   |\n"
          ]
        }
      ]
    },
    {
      "cell_type": "markdown",
      "source": [
        "**Observation:**   \n",
        "In Market State 1, the policy consistently favors producing Product A, reflecting its higher selling price compared to Product B. Similarly, in Market State 2, the policy shifts toward producing Product B, as it offers a higher selling price in that state.\n"
      ],
      "metadata": {
        "id": "ZxULLc0oDAIC"
      },
      "id": "ZxULLc0oDAIC"
    },
    {
      "cell_type": "markdown",
      "source": [
        "#### ii. Policy Behavior Based on Raw Material\n",
        "Check if agent shifts to cheaper Product B when RM is low."
      ],
      "metadata": {
        "id": "e92qvrw5U1Pd"
      },
      "id": "e92qvrw5U1Pd"
    },
    {
      "cell_type": "code",
      "source": [
        "print_policy_grid_table(pi_policy, market_state=1, rm_array=range(5))\n",
        "print_policy_grid_table(pi_policy, market_state=2, rm_array=range(5))"
      ],
      "metadata": {
        "colab": {
          "base_uri": "https://localhost:8080/"
        },
        "id": "STmc7Ab7VJi5",
        "outputId": "beadf4bc-888f-411d-d082-93b5746f1904"
      },
      "id": "STmc7Ab7VJi5",
      "execution_count": 60,
      "outputs": [
        {
          "output_type": "stream",
          "name": "stdout",
          "text": [
            "\n",
            "Optimal Policy Grid for Market State: '1'\n",
            "\n",
            "|   Raw Material | Day 0   | Day 1   | Day 2   | Day 3   | Day 4   |\n",
            "|---------------:|:--------|:--------|:--------|:--------|:--------|\n",
            "|              0 | 2A_0B   | 2A_0B   | 2A_0B   | 2A_0B   | 2A_0B   |\n",
            "|              1 | 2A_0B   | 2A_0B   | 2A_0B   | 2A_0B   | 2A_0B   |\n",
            "|              2 | 2A_0B   | 2A_0B   | 2A_0B   | 2A_0B   | 2A_0B   |\n",
            "|              3 | 2A_0B   | 2A_0B   | 2A_0B   | 2A_0B   | 2A_0B   |\n",
            "|              4 | 2A_0B   | 2A_0B   | 2A_0B   | 2A_0B   | 2A_0B   |\n",
            "\n",
            "Optimal Policy Grid for Market State: '2'\n",
            "\n",
            "|   Raw Material | Day 0   | Day 1   | Day 2   | Day 3   | Day 4   |\n",
            "|---------------:|:--------|:--------|:--------|:--------|:--------|\n",
            "|              0 | 2A_0B   | 2A_0B   | 2A_0B   | 2A_0B   | 2A_0B   |\n",
            "|              1 | 2A_0B   | 2A_0B   | 2A_0B   | 2A_0B   | 2A_0B   |\n",
            "|              2 | 2A_0B   | 2A_0B   | 2A_0B   | 2A_0B   | 2A_0B   |\n",
            "|              3 | 2A_0B   | 2A_0B   | 2A_0B   | 2A_0B   | 2A_0B   |\n",
            "|              4 | 1A_2B   | 1A_2B   | 1A_2B   | 1A_2B   | 1A_2B   |\n"
          ]
        }
      ]
    },
    {
      "cell_type": "markdown",
      "source": [
        "**Obseravation:**   \n",
        "In Market State 1, the agent continues to favor Product A even with limited raw material, likely because failed production attempts (due to insufficient resources) result in no penalty other than a wasted action. In Market State 2, although Product B offers higher profit potential, the agent still chooses to produce Product A when raw material is less than 4, as it is the only action that is both feasible and profitable within the given resource constraints.\n"
      ],
      "metadata": {
        "id": "YDPV6kAmWQJb"
      },
      "id": "YDPV6kAmWQJb"
    },
    {
      "cell_type": "markdown",
      "source": [
        "iii. Policy Behavior Based on Remaining Days"
      ],
      "metadata": {
        "id": "NOhx8h-_W6B_"
      },
      "id": "NOhx8h-_W6B_"
    },
    {
      "cell_type": "code",
      "source": [
        "print_policy_grid_table(pi_policy, market_state=1)\n",
        "print_policy_grid_table(pi_policy, market_state=2)"
      ],
      "metadata": {
        "colab": {
          "base_uri": "https://localhost:8080/"
        },
        "id": "LeTgV9q-XVfk",
        "outputId": "b5fd10c7-07c0-4b7c-9229-6992e4d46f06"
      },
      "id": "LeTgV9q-XVfk",
      "execution_count": 61,
      "outputs": [
        {
          "output_type": "stream",
          "name": "stdout",
          "text": [
            "\n",
            "Optimal Policy Grid for Market State: '1'\n",
            "\n",
            "|   Raw Material | Day 0   | Day 1   | Day 2   | Day 3   | Day 4   |\n",
            "|---------------:|:--------|:--------|:--------|:--------|:--------|\n",
            "|              0 | 2A_0B   | 2A_0B   | 2A_0B   | 2A_0B   | 2A_0B   |\n",
            "|              1 | 2A_0B   | 2A_0B   | 2A_0B   | 2A_0B   | 2A_0B   |\n",
            "|              2 | 2A_0B   | 2A_0B   | 2A_0B   | 2A_0B   | 2A_0B   |\n",
            "|              3 | 2A_0B   | 2A_0B   | 2A_0B   | 2A_0B   | 2A_0B   |\n",
            "|              4 | 2A_0B   | 2A_0B   | 2A_0B   | 2A_0B   | 2A_0B   |\n",
            "|              5 | 2A_0B   | 2A_0B   | 2A_0B   | 2A_0B   | 2A_0B   |\n",
            "|              6 | 3A_0B   | 3A_0B   | 3A_0B   | 3A_0B   | 3A_0B   |\n",
            "|              7 | 3A_0B   | 3A_0B   | 3A_0B   | 3A_0B   | 3A_0B   |\n",
            "|              8 | 3A_0B   | 3A_0B   | 3A_0B   | 3A_0B   | 3A_0B   |\n",
            "|              9 | 3A_0B   | 3A_0B   | 3A_0B   | 3A_0B   | 3A_0B   |\n",
            "|             10 | 3A_0B   | 3A_0B   | 3A_0B   | 3A_0B   | 3A_0B   |\n",
            "\n",
            "Optimal Policy Grid for Market State: '2'\n",
            "\n",
            "|   Raw Material | Day 0   | Day 1   | Day 2   | Day 3   | Day 4   |\n",
            "|---------------:|:--------|:--------|:--------|:--------|:--------|\n",
            "|              0 | 2A_0B   | 2A_0B   | 2A_0B   | 2A_0B   | 2A_0B   |\n",
            "|              1 | 2A_0B   | 2A_0B   | 2A_0B   | 2A_0B   | 2A_0B   |\n",
            "|              2 | 2A_0B   | 2A_0B   | 2A_0B   | 2A_0B   | 2A_0B   |\n",
            "|              3 | 2A_0B   | 2A_0B   | 2A_0B   | 2A_0B   | 2A_0B   |\n",
            "|              4 | 1A_2B   | 1A_2B   | 1A_2B   | 1A_2B   | 1A_2B   |\n",
            "|              5 | 0A_5B   | 0A_5B   | 0A_5B   | 0A_5B   | 0A_5B   |\n",
            "|              6 | 0A_5B   | 0A_5B   | 0A_5B   | 0A_5B   | 0A_5B   |\n",
            "|              7 | 0A_5B   | 0A_5B   | 0A_5B   | 0A_5B   | 0A_5B   |\n",
            "|              8 | 0A_5B   | 0A_5B   | 0A_5B   | 0A_5B   | 0A_5B   |\n",
            "|              9 | 0A_5B   | 0A_5B   | 0A_5B   | 0A_5B   | 0A_5B   |\n",
            "|             10 | 0A_5B   | 0A_5B   | 0A_5B   | 0A_5B   | 0A_5B   |\n"
          ]
        }
      ]
    },
    {
      "cell_type": "markdown",
      "source": [
        "**Observation:**    \n",
        "No distinct behavior is observed on the last day, as the raw material quantity resets to 10 at the start of each new day, regardless of whether it's Market State 1 or 2.\n"
      ],
      "metadata": {
        "id": "BtHrPW6CTvdY"
      },
      "id": "BtHrPW6CTvdY"
    },
    {
      "cell_type": "markdown",
      "source": [
        "#### **4. Performance Evaluation: (1 Mark)**\n",
        "i. Calculate the state-value function (V∗) for key states (e.g. start of Day 1, Market State 1, 10 RM)."
      ],
      "metadata": {
        "id": "2qcynqJHae1j"
      },
      "id": "2qcynqJHae1j"
    },
    {
      "cell_type": "code",
      "source": [
        "# print_value_for_key_states\n",
        "def print_value_for_key_states(V, key_states):\n",
        "\n",
        "    print(\"\\nState-Value Function (V*) for Key States:\")\n",
        "    for state in key_states:\n",
        "        value = V.get(state, 0.0)\n",
        "        print(f\"State (day: {state[0] +1}, rm: {state[1]}, market_state: {state[2]}): V* = {value:.2f}\")\n",
        "\n",
        "\n",
        "key_states = [\n",
        "        (0, 10, 1),\n",
        "        (0, 10, 2),\n",
        "        (2, 5, 1),\n",
        "        (4, 10, 1),\n",
        "        (4, 10, 2)\n",
        "    ]\n",
        "print_value_for_key_states(vi_values, key_states)\n"
      ],
      "metadata": {
        "colab": {
          "base_uri": "https://localhost:8080/"
        },
        "id": "Rsqk1NkbaYPM",
        "outputId": "499ab006-f1c5-4e7e-fff3-bb06368ca18e"
      },
      "id": "Rsqk1NkbaYPM",
      "execution_count": 62,
      "outputs": [
        {
          "output_type": "stream",
          "name": "stdout",
          "text": [
            "\n",
            "State-Value Function (V*) for Key States:\n",
            "State (day: 1, rm: 10, market_state: 1): V* = 109.75\n",
            "State (day: 1, rm: 10, market_state: 2): V* = 110.75\n",
            "State (day: 3, rm: 5, market_state: 1): V* = 52.75\n",
            "State (day: 5, rm: 10, market_state: 1): V* = 12.00\n",
            "State (day: 5, rm: 10, market_state: 2): V* = 12.50\n"
          ]
        }
      ]
    },
    {
      "cell_type": "markdown",
      "source": [
        "ii. Simulate the learned policy over multiple runs (e.g., 1000 runs of 5 days each) and calculate the average total profit achieved."
      ],
      "metadata": {
        "id": "lAi34IgueEsz"
      },
      "id": "lAi34IgueEsz"
    },
    {
      "cell_type": "code",
      "source": [
        "# simulate policy function - Simulates the learned policy over multiple runs to evaluate performance\n",
        "def simulate_policy(env, policy, episodes=1000):\n",
        "    total_rewards = []\n",
        "    for episode_count in range(episodes):\n",
        "        # print(f\"episode_count: {episode_count}\")\n",
        "        state = env.reset()\n",
        "        total = 0\n",
        "        done = False\n",
        "        while not done:\n",
        "            action = policy.get(state, 4)  # default to 'do nothing'\n",
        "            next_state, reward, done = env.step(action)\n",
        "            total += reward\n",
        "            state = next_state if next_state is not None else state\n",
        "        total_rewards.append(total)\n",
        "    print(total_rewards)\n",
        "    return np.mean(total_rewards)\n"
      ],
      "metadata": {
        "id": "LF9mkW1aaeVS"
      },
      "id": "LF9mkW1aaeVS",
      "execution_count": 63,
      "outputs": []
    },
    {
      "cell_type": "code",
      "source": [
        "from IPython.display import Markdown, display\n",
        "\n",
        "def bold(text):\n",
        "    display(Markdown(f\"**{text}**\"))"
      ],
      "metadata": {
        "id": "Fs80BzUHZ6Nj"
      },
      "id": "Fs80BzUHZ6Nj",
      "execution_count": 64,
      "outputs": []
    },
    {
      "cell_type": "code",
      "source": [
        "\n",
        "# Simulate policy to get average rewards\n",
        "print(\"\\nSimulating Value Iteration Policy...\")\n",
        "average_profit_vi = simulate_policy(env, vi_policy, episodes=1000)\n",
        "bold(f\"Average Profit using Value Iteration Policy: {average_profit_vi:.2f}\")\n",
        "\n",
        "print(\"\\nSimulating Policy Iteration Policy...\")\n",
        "average_profit_pi = simulate_policy(env, pi_policy, episodes=1000)\n",
        "bold(f\"Average Profit using Policy Iteration Policy: {average_profit_pi:.2f}\")"
      ],
      "metadata": {
        "colab": {
          "base_uri": "https://localhost:8080/",
          "height": 200
        },
        "id": "WOzwhAsoTuQZ",
        "outputId": "07aacfed-5b98-426b-9004-3fa1006477ab"
      },
      "id": "WOzwhAsoTuQZ",
      "execution_count": 65,
      "outputs": [
        {
          "output_type": "stream",
          "name": "stdout",
          "text": [
            "\n",
            "Simulating Value Iteration Policy...\n",
            "[120, 121, 123, 124, 121, 122, 123, 124, 124, 124, 123, 122, 124, 121, 122, 123, 121, 124, 123, 124, 123, 122, 123, 122, 122, 124, 123, 123, 120, 124, 123, 123, 123, 123, 122, 121, 122, 122, 123, 122, 122, 124, 122, 121, 125, 122, 122, 120, 121, 124, 123, 121, 122, 122, 125, 123, 123, 123, 124, 120, 124, 122, 122, 123, 123, 121, 125, 124, 123, 122, 123, 123, 122, 121, 125, 124, 122, 123, 121, 121, 123, 122, 121, 123, 122, 120, 121, 122, 122, 124, 122, 122, 123, 121, 123, 123, 123, 122, 124, 122, 122, 124, 121, 122, 121, 122, 123, 123, 123, 123, 124, 122, 122, 124, 122, 123, 123, 124, 124, 122, 121, 122, 123, 122, 124, 121, 123, 122, 123, 121, 123, 125, 122, 121, 122, 122, 123, 123, 121, 123, 124, 123, 123, 122, 123, 122, 124, 121, 121, 123, 123, 121, 123, 124, 123, 123, 122, 123, 123, 124, 124, 121, 125, 124, 121, 124, 122, 125, 121, 123, 122, 123, 124, 122, 123, 123, 121, 121, 123, 122, 123, 123, 123, 121, 122, 121, 121, 121, 122, 123, 123, 123, 123, 122, 124, 123, 122, 122, 125, 123, 122, 121, 121, 124, 122, 124, 125, 124, 122, 123, 122, 122, 121, 123, 125, 122, 122, 120, 121, 124, 123, 124, 122, 122, 122, 121, 123, 124, 123, 123, 123, 121, 122, 122, 123, 122, 124, 122, 123, 122, 122, 122, 121, 125, 122, 121, 123, 123, 125, 123, 120, 122, 122, 122, 124, 121, 122, 124, 124, 124, 122, 121, 121, 123, 122, 123, 121, 124, 122, 123, 125, 122, 123, 121, 123, 122, 124, 122, 121, 123, 123, 121, 123, 122, 121, 121, 122, 123, 123, 123, 122, 123, 123, 122, 122, 122, 122, 123, 122, 122, 122, 121, 122, 125, 124, 122, 123, 123, 123, 122, 123, 123, 122, 122, 123, 123, 123, 122, 122, 121, 122, 122, 123, 122, 123, 124, 123, 122, 124, 123, 122, 121, 121, 121, 122, 123, 122, 123, 125, 124, 122, 122, 125, 123, 123, 122, 124, 123, 122, 122, 121, 122, 123, 122, 123, 122, 122, 122, 123, 122, 123, 122, 123, 124, 121, 124, 122, 123, 122, 121, 122, 122, 122, 123, 121, 124, 122, 122, 124, 122, 123, 123, 124, 123, 122, 123, 122, 124, 122, 122, 122, 124, 122, 123, 122, 122, 122, 123, 123, 122, 121, 122, 123, 121, 123, 123, 123, 122, 123, 123, 123, 125, 124, 124, 122, 123, 124, 124, 121, 124, 122, 122, 123, 123, 123, 123, 124, 123, 122, 124, 123, 120, 124, 122, 121, 121, 123, 122, 123, 124, 124, 124, 120, 123, 121, 124, 123, 123, 123, 122, 123, 122, 124, 123, 122, 121, 124, 122, 123, 123, 123, 122, 124, 123, 121, 122, 122, 123, 124, 122, 122, 123, 121, 124, 121, 122, 125, 123, 122, 121, 123, 122, 124, 124, 124, 122, 123, 122, 124, 122, 122, 123, 124, 123, 123, 123, 122, 123, 121, 124, 123, 123, 121, 123, 122, 123, 123, 123, 122, 123, 122, 122, 122, 122, 122, 123, 122, 123, 123, 121, 123, 121, 123, 121, 123, 123, 124, 123, 123, 123, 123, 120, 121, 125, 124, 123, 123, 122, 123, 123, 122, 123, 123, 120, 123, 123, 123, 122, 123, 123, 123, 124, 121, 122, 124, 124, 123, 122, 122, 123, 123, 121, 123, 122, 123, 121, 124, 123, 122, 121, 121, 123, 122, 124, 123, 123, 121, 122, 125, 124, 122, 120, 124, 123, 122, 124, 123, 123, 123, 123, 121, 123, 123, 123, 122, 122, 122, 121, 121, 122, 123, 120, 123, 120, 123, 121, 124, 122, 123, 123, 124, 124, 121, 121, 123, 122, 123, 123, 122, 122, 120, 123, 123, 122, 123, 122, 123, 123, 123, 121, 123, 124, 123, 120, 124, 124, 123, 123, 120, 123, 124, 123, 123, 123, 123, 122, 123, 123, 121, 123, 121, 123, 123, 121, 123, 122, 122, 123, 123, 123, 121, 121, 123, 123, 124, 122, 121, 122, 123, 124, 121, 122, 122, 122, 123, 123, 122, 122, 122, 121, 124, 120, 121, 122, 122, 123, 121, 122, 122, 123, 123, 121, 125, 122, 125, 124, 125, 123, 124, 124, 123, 122, 123, 124, 121, 121, 124, 122, 122, 122, 124, 123, 123, 124, 124, 122, 120, 125, 121, 122, 123, 122, 123, 121, 124, 123, 125, 122, 123, 124, 122, 122, 122, 122, 122, 122, 121, 122, 123, 122, 122, 123, 122, 123, 121, 121, 122, 123, 122, 124, 124, 124, 123, 121, 123, 122, 122, 124, 123, 122, 121, 121, 121, 123, 124, 124, 122, 120, 123, 123, 122, 123, 124, 122, 123, 122, 122, 123, 122, 122, 122, 124, 123, 123, 121, 122, 122, 123, 123, 123, 122, 123, 124, 122, 122, 121, 122, 122, 121, 123, 122, 121, 124, 122, 122, 124, 122, 121, 122, 124, 122, 125, 122, 122, 122, 124, 123, 124, 125, 122, 122, 123, 124, 123, 125, 123, 123, 123, 122, 122, 123, 121, 121, 122, 123, 122, 123, 123, 122, 122, 122, 122, 123, 122, 122, 123, 123, 123, 124, 122, 122, 121, 121, 123, 122, 122, 120, 123, 125, 122, 123, 123, 123, 122, 125, 122, 122, 122, 124, 122, 122, 124, 123, 124, 123, 122, 124, 122, 123, 121, 123, 122, 123, 124, 123, 122, 123, 122, 122, 123, 121, 123, 120, 121, 121, 121, 122, 122, 124, 123, 123, 122, 124, 123, 123, 124, 122, 123, 123, 124, 124, 124, 123, 123, 123, 123, 122, 122, 122, 124, 123, 123, 121, 121, 122, 123, 123, 123, 124, 121, 123, 123, 123, 123, 123, 122, 122, 123, 122, 121, 122, 121, 123, 123, 122, 123, 120, 123, 123, 122, 123, 122, 124, 122, 125, 121, 122, 125, 123, 122, 123, 125, 122, 123, 123, 124, 122, 122, 121, 123, 123, 123, 124, 121, 122, 124, 122, 121, 124, 125, 121, 122, 123, 123, 122, 121, 123, 122, 124, 122, 122, 122, 124, 122, 120, 121, 122, 121, 125, 122]\n"
          ]
        },
        {
          "output_type": "display_data",
          "data": {
            "text/plain": [
              "<IPython.core.display.Markdown object>"
            ],
            "text/markdown": "**Average Profit using Value Iteration Policy: 122.55**"
          },
          "metadata": {}
        },
        {
          "output_type": "stream",
          "name": "stdout",
          "text": [
            "\n",
            "Simulating Policy Iteration Policy...\n",
            "[121, 122, 122, 123, 122, 122, 122, 125, 121, 124, 122, 125, 120, 123, 124, 122, 124, 122, 123, 123, 122, 120, 125, 122, 123, 122, 123, 123, 125, 122, 122, 123, 122, 122, 121, 121, 122, 122, 123, 122, 125, 124, 124, 123, 123, 123, 122, 123, 122, 124, 121, 121, 122, 121, 122, 125, 123, 122, 123, 121, 122, 121, 124, 121, 123, 124, 124, 124, 123, 123, 123, 122, 123, 121, 123, 121, 123, 122, 122, 123, 123, 123, 123, 123, 122, 123, 123, 122, 121, 123, 125, 121, 124, 120, 121, 122, 121, 121, 124, 121, 122, 124, 122, 123, 120, 124, 122, 122, 125, 123, 122, 123, 123, 122, 122, 122, 123, 121, 124, 121, 123, 122, 124, 121, 122, 121, 124, 122, 123, 121, 121, 124, 121, 123, 123, 123, 122, 121, 121, 125, 125, 122, 124, 124, 123, 124, 124, 121, 121, 120, 123, 124, 122, 122, 124, 124, 122, 122, 122, 122, 122, 123, 124, 123, 122, 124, 124, 123, 125, 123, 123, 123, 123, 121, 122, 122, 123, 122, 122, 122, 122, 123, 122, 120, 121, 123, 122, 123, 125, 122, 123, 123, 122, 121, 122, 124, 123, 122, 123, 121, 122, 121, 122, 124, 124, 121, 123, 122, 121, 121, 122, 121, 123, 121, 123, 122, 124, 121, 122, 124, 121, 121, 122, 121, 121, 124, 123, 121, 123, 123, 123, 121, 123, 122, 122, 122, 121, 121, 122, 123, 124, 121, 122, 123, 121, 123, 123, 123, 124, 121, 123, 123, 121, 123, 122, 121, 122, 122, 124, 123, 124, 122, 123, 121, 123, 124, 121, 123, 122, 123, 122, 120, 124, 124, 123, 124, 121, 123, 122, 121, 123, 124, 122, 122, 123, 123, 124, 123, 123, 123, 122, 121, 123, 122, 121, 124, 123, 123, 122, 123, 123, 123, 121, 121, 122, 124, 123, 124, 122, 121, 123, 121, 124, 122, 122, 123, 123, 124, 122, 125, 121, 122, 121, 121, 122, 122, 123, 124, 123, 123, 123, 123, 122, 121, 123, 122, 121, 125, 122, 124, 121, 122, 124, 123, 122, 123, 123, 124, 122, 123, 121, 123, 122, 122, 122, 124, 124, 122, 122, 121, 124, 123, 123, 121, 123, 124, 121, 123, 121, 122, 123, 123, 122, 121, 123, 123, 124, 120, 123, 122, 123, 123, 122, 123, 123, 122, 124, 123, 125, 121, 123, 122, 122, 124, 124, 122, 121, 120, 124, 123, 121, 122, 124, 121, 122, 124, 122, 125, 123, 122, 122, 123, 123, 123, 121, 121, 123, 124, 120, 123, 123, 122, 124, 122, 122, 123, 125, 122, 123, 123, 123, 123, 121, 124, 124, 122, 123, 121, 121, 121, 125, 123, 125, 124, 125, 121, 122, 122, 123, 122, 123, 123, 123, 121, 123, 123, 121, 121, 125, 124, 122, 124, 123, 122, 123, 123, 121, 120, 123, 125, 123, 125, 123, 124, 124, 122, 123, 123, 122, 124, 122, 121, 121, 124, 123, 122, 121, 122, 121, 121, 123, 123, 122, 123, 121, 124, 120, 122, 123, 123, 121, 125, 120, 124, 123, 123, 123, 123, 122, 121, 123, 123, 121, 122, 123, 123, 124, 121, 123, 122, 122, 122, 121, 122, 122, 123, 121, 124, 121, 123, 123, 123, 122, 123, 121, 124, 124, 124, 122, 121, 123, 122, 122, 124, 123, 122, 123, 124, 122, 122, 124, 125, 122, 124, 120, 122, 123, 123, 125, 122, 123, 125, 122, 122, 122, 123, 123, 122, 121, 123, 123, 121, 123, 123, 120, 122, 121, 121, 123, 123, 120, 123, 124, 123, 122, 122, 121, 122, 123, 122, 121, 123, 124, 124, 122, 122, 121, 120, 123, 122, 124, 121, 121, 121, 123, 122, 122, 123, 122, 125, 122, 124, 123, 121, 123, 122, 122, 123, 122, 123, 122, 121, 124, 124, 122, 123, 122, 120, 121, 123, 124, 124, 121, 122, 120, 124, 124, 122, 124, 121, 122, 121, 124, 121, 123, 121, 122, 123, 122, 123, 124, 122, 122, 121, 124, 122, 124, 124, 123, 123, 121, 122, 121, 123, 120, 122, 122, 122, 121, 123, 123, 122, 122, 121, 123, 122, 124, 121, 121, 121, 121, 120, 122, 122, 123, 122, 123, 122, 122, 123, 122, 124, 122, 121, 123, 124, 122, 121, 122, 123, 122, 121, 122, 125, 122, 123, 122, 123, 122, 124, 122, 122, 123, 124, 123, 120, 123, 122, 124, 123, 122, 121, 123, 121, 123, 122, 124, 122, 124, 122, 121, 121, 123, 123, 122, 122, 123, 122, 124, 122, 124, 123, 121, 121, 124, 123, 122, 123, 122, 122, 123, 122, 123, 123, 124, 123, 123, 121, 122, 122, 122, 123, 122, 124, 123, 122, 122, 123, 124, 122, 124, 121, 122, 122, 123, 120, 123, 124, 121, 121, 122, 122, 123, 123, 122, 121, 123, 122, 123, 122, 122, 121, 122, 122, 123, 122, 122, 121, 124, 123, 122, 124, 123, 123, 123, 121, 123, 123, 124, 124, 121, 122, 123, 123, 124, 122, 123, 122, 123, 122, 123, 122, 124, 122, 123, 121, 123, 122, 123, 123, 124, 123, 122, 123, 121, 120, 122, 123, 123, 123, 122, 123, 122, 122, 121, 121, 122, 122, 122, 123, 123, 124, 123, 124, 124, 124, 122, 124, 122, 123, 121, 121, 122, 121, 123, 125, 122, 123, 122, 124, 121, 123, 122, 122, 121, 123, 120, 120, 122, 124, 123, 123, 124, 123, 123, 122, 121, 122, 124, 122, 121, 123, 121, 123, 124, 122, 123, 124, 124, 121, 122, 122, 122, 124, 122, 123, 120, 122, 123, 122, 123, 123, 124, 123, 122, 123, 123, 121, 124, 121, 121, 121, 125, 123, 124, 125, 122, 122, 124, 122, 124, 123, 122, 123, 124, 121, 123, 122, 125, 122, 122, 123, 122, 121, 123, 122, 124, 122, 122, 122, 122, 123, 122, 121, 124, 122, 123, 123, 123, 124, 124, 123, 123, 123, 123, 120, 123, 124, 122, 125, 123, 123, 122, 122, 124, 123, 121, 122, 124, 122, 122, 122, 122, 124, 124, 123, 121, 123, 122, 121, 122, 122, 123, 124, 121, 122, 123, 123, 123, 125]\n"
          ]
        },
        {
          "output_type": "display_data",
          "data": {
            "text/plain": [
              "<IPython.core.display.Markdown object>"
            ],
            "text/markdown": "**Average Profit using Policy Iteration Policy: 122.49**"
          },
          "metadata": {}
        }
      ]
    },
    {
      "cell_type": "markdown",
      "source": [
        "**Observation:**  \n",
        "In each episode, the profit consistently falls at the maximum achievable profit in their respective states, given the fixed daily raw material limit of 10 units each day. As a result, the average profit across episodes naturally falls within the range of 120 to 125.\n"
      ],
      "metadata": {
        "id": "Xv3P-mawXOG3"
      },
      "id": "Xv3P-mawXOG3"
    },
    {
      "cell_type": "markdown",
      "source": [
        "#### **5. Impact of Dynamics: Compare the optimal policy learned in this dynamic**\n",
        "environment to what you might expect if the market prices for Product A and\n",
        "Product B were always fixed (e.g., if it was always Market State 1 every day). How\n",
        "does the agent's strategy adapt or change when the market can shift unexpectedly,\n",
        "versus if it were always the same? (1 M\n",
        "ar\n",
        "k)"
      ],
      "metadata": {
        "id": "iRyyI40keWZY"
      },
      "id": "iRyyI40keWZY"
    },
    {
      "cell_type": "markdown",
      "id": "3305647e",
      "metadata": {
        "id": "3305647e"
      },
      "source": [
        "#### --- 5. Impact of Dynamics Analysis --- (1 Mark)"
      ]
    },
    {
      "cell_type": "code",
      "execution_count": 66,
      "id": "2448380d",
      "metadata": {
        "id": "2448380d"
      },
      "outputs": [],
      "source": [
        "# Discusses the impact of dynamic market prices on the optimal policy.\n",
        "# This section should primarily be a written explanation in the report."
      ]
    },
    {
      "cell_type": "markdown",
      "source": [
        "**Fixed Market State 1**"
      ],
      "metadata": {
        "id": "qvfAicguabD1"
      },
      "id": "qvfAicguabD1"
    },
    {
      "cell_type": "code",
      "source": [
        "# --- Main Execution ---\n",
        "# Instantiate environment\n",
        "fixed_prices_env= SmartSupplierEnv(num_days=5, initial_rm=10, fixed_market=1)\n",
        "\n",
        "# Run Value Iteration\n",
        "print(\"\\nInstantiating Value Iteration ...\")\n",
        "fixed_prices_vi_agent = ValueIterationAgent(fixed_prices_env, gamma=1.0, theta=1e-4)\n",
        "fixed_prices_vi_policy, fixed_prices_vi_values = fixed_prices_vi_agent.run()\n",
        "print(\"Value Iteration run Successfully.\")\n",
        "\n",
        "# Run Policy Iteration\n",
        "print(\"\\nInstantiating Policy Iteration ...\")\n",
        "fixed_prices_pi_agent = PolicyIterationAgent(fixed_prices_env, gamma=1.0)\n",
        "fixed_prices_pi_policy, fixed_prices_pi_values = fixed_prices_pi_agent.run()\n",
        "print(\"Policy Iteration run Successfully.\")"
      ],
      "metadata": {
        "colab": {
          "base_uri": "https://localhost:8080/"
        },
        "id": "QZ4DUr2pMhgE",
        "outputId": "86a2a17e-df95-4993-b113-33dd22c4ba58"
      },
      "id": "QZ4DUr2pMhgE",
      "execution_count": 67,
      "outputs": [
        {
          "output_type": "stream",
          "name": "stdout",
          "text": [
            "market_states:  {1: {'A_price': 8, 'B_price': 2}}\n",
            "\n",
            "Instantiating Value Iteration ...\n",
            "delta: 24.0, theta: 0.0001\n",
            "delta: 12.0, theta: 0.0001\n",
            "delta: 6.0, theta: 0.0001\n",
            "delta: 3.0, theta: 0.0001\n",
            "delta: 0.75, theta: 0.0001\n",
            "delta: 0, theta: 0.0001\n",
            "Value Iteration run Successfully.\n",
            "\n",
            "Instantiating Policy Iteration ...\n",
            "delta: 24.0\n",
            "delta: 8.0\n",
            "delta: 4.0\n",
            "delta: 2.0\n",
            "delta: 0.375\n",
            "delta: 0\n",
            "delta: 24.0\n",
            "delta: 7.0\n",
            "delta: 3.5\n",
            "delta: 1.0\n",
            "delta: 0.375\n",
            "delta: 0\n",
            "Policy Iteration run Successfully.\n"
          ]
        }
      ]
    },
    {
      "cell_type": "code",
      "source": [
        "\n",
        "# Simulate policy to get average rewards\n",
        "print(\"\\nSimulating Value Iteration Policy...\")\n",
        "average_profit_vi = simulate_policy(fixed_prices_env, fixed_prices_vi_policy, episodes=1000)\n",
        "bold(f\"Average Profit using Value Iteration Policy: {average_profit_vi:.2f}\")\n",
        "\n",
        "print(\"\\nSimulating Policy Iteration Policy...\")\n",
        "average_profit_pi = simulate_policy(fixed_prices_env, fixed_prices_pi_policy, episodes=1000)\n",
        "bold(f\"Average Profit using Policy Iteration Policy: {average_profit_pi:.2f}\")\n"
      ],
      "metadata": {
        "colab": {
          "base_uri": "https://localhost:8080/",
          "height": 200
        },
        "id": "Ae0-QxwVMhjI",
        "outputId": "8ae48140-a3a0-4b01-d62e-9361f4eace5a"
      },
      "id": "Ae0-QxwVMhjI",
      "execution_count": 68,
      "outputs": [
        {
          "output_type": "stream",
          "name": "stdout",
          "text": [
            "\n",
            "Simulating Value Iteration Policy...\n",
            "[120, 120, 120, 120, 120, 120, 120, 120, 120, 120, 120, 120, 120, 120, 120, 120, 120, 120, 120, 120, 120, 120, 120, 120, 120, 120, 120, 120, 120, 120, 120, 120, 120, 120, 120, 120, 120, 120, 120, 120, 120, 120, 120, 120, 120, 120, 120, 120, 120, 120, 120, 120, 120, 120, 120, 120, 120, 120, 120, 120, 120, 120, 120, 120, 120, 120, 120, 120, 120, 120, 120, 120, 120, 120, 120, 120, 120, 120, 120, 120, 120, 120, 120, 120, 120, 120, 120, 120, 120, 120, 120, 120, 120, 120, 120, 120, 120, 120, 120, 120, 120, 120, 120, 120, 120, 120, 120, 120, 120, 120, 120, 120, 120, 120, 120, 120, 120, 120, 120, 120, 120, 120, 120, 120, 120, 120, 120, 120, 120, 120, 120, 120, 120, 120, 120, 120, 120, 120, 120, 120, 120, 120, 120, 120, 120, 120, 120, 120, 120, 120, 120, 120, 120, 120, 120, 120, 120, 120, 120, 120, 120, 120, 120, 120, 120, 120, 120, 120, 120, 120, 120, 120, 120, 120, 120, 120, 120, 120, 120, 120, 120, 120, 120, 120, 120, 120, 120, 120, 120, 120, 120, 120, 120, 120, 120, 120, 120, 120, 120, 120, 120, 120, 120, 120, 120, 120, 120, 120, 120, 120, 120, 120, 120, 120, 120, 120, 120, 120, 120, 120, 120, 120, 120, 120, 120, 120, 120, 120, 120, 120, 120, 120, 120, 120, 120, 120, 120, 120, 120, 120, 120, 120, 120, 120, 120, 120, 120, 120, 120, 120, 120, 120, 120, 120, 120, 120, 120, 120, 120, 120, 120, 120, 120, 120, 120, 120, 120, 120, 120, 120, 120, 120, 120, 120, 120, 120, 120, 120, 120, 120, 120, 120, 120, 120, 120, 120, 120, 120, 120, 120, 120, 120, 120, 120, 120, 120, 120, 120, 120, 120, 120, 120, 120, 120, 120, 120, 120, 120, 120, 120, 120, 120, 120, 120, 120, 120, 120, 120, 120, 120, 120, 120, 120, 120, 120, 120, 120, 120, 120, 120, 120, 120, 120, 120, 120, 120, 120, 120, 120, 120, 120, 120, 120, 120, 120, 120, 120, 120, 120, 120, 120, 120, 120, 120, 120, 120, 120, 120, 120, 120, 120, 120, 120, 120, 120, 120, 120, 120, 120, 120, 120, 120, 120, 120, 120, 120, 120, 120, 120, 120, 120, 120, 120, 120, 120, 120, 120, 120, 120, 120, 120, 120, 120, 120, 120, 120, 120, 120, 120, 120, 120, 120, 120, 120, 120, 120, 120, 120, 120, 120, 120, 120, 120, 120, 120, 120, 120, 120, 120, 120, 120, 120, 120, 120, 120, 120, 120, 120, 120, 120, 120, 120, 120, 120, 120, 120, 120, 120, 120, 120, 120, 120, 120, 120, 120, 120, 120, 120, 120, 120, 120, 120, 120, 120, 120, 120, 120, 120, 120, 120, 120, 120, 120, 120, 120, 120, 120, 120, 120, 120, 120, 120, 120, 120, 120, 120, 120, 120, 120, 120, 120, 120, 120, 120, 120, 120, 120, 120, 120, 120, 120, 120, 120, 120, 120, 120, 120, 120, 120, 120, 120, 120, 120, 120, 120, 120, 120, 120, 120, 120, 120, 120, 120, 120, 120, 120, 120, 120, 120, 120, 120, 120, 120, 120, 120, 120, 120, 120, 120, 120, 120, 120, 120, 120, 120, 120, 120, 120, 120, 120, 120, 120, 120, 120, 120, 120, 120, 120, 120, 120, 120, 120, 120, 120, 120, 120, 120, 120, 120, 120, 120, 120, 120, 120, 120, 120, 120, 120, 120, 120, 120, 120, 120, 120, 120, 120, 120, 120, 120, 120, 120, 120, 120, 120, 120, 120, 120, 120, 120, 120, 120, 120, 120, 120, 120, 120, 120, 120, 120, 120, 120, 120, 120, 120, 120, 120, 120, 120, 120, 120, 120, 120, 120, 120, 120, 120, 120, 120, 120, 120, 120, 120, 120, 120, 120, 120, 120, 120, 120, 120, 120, 120, 120, 120, 120, 120, 120, 120, 120, 120, 120, 120, 120, 120, 120, 120, 120, 120, 120, 120, 120, 120, 120, 120, 120, 120, 120, 120, 120, 120, 120, 120, 120, 120, 120, 120, 120, 120, 120, 120, 120, 120, 120, 120, 120, 120, 120, 120, 120, 120, 120, 120, 120, 120, 120, 120, 120, 120, 120, 120, 120, 120, 120, 120, 120, 120, 120, 120, 120, 120, 120, 120, 120, 120, 120, 120, 120, 120, 120, 120, 120, 120, 120, 120, 120, 120, 120, 120, 120, 120, 120, 120, 120, 120, 120, 120, 120, 120, 120, 120, 120, 120, 120, 120, 120, 120, 120, 120, 120, 120, 120, 120, 120, 120, 120, 120, 120, 120, 120, 120, 120, 120, 120, 120, 120, 120, 120, 120, 120, 120, 120, 120, 120, 120, 120, 120, 120, 120, 120, 120, 120, 120, 120, 120, 120, 120, 120, 120, 120, 120, 120, 120, 120, 120, 120, 120, 120, 120, 120, 120, 120, 120, 120, 120, 120, 120, 120, 120, 120, 120, 120, 120, 120, 120, 120, 120, 120, 120, 120, 120, 120, 120, 120, 120, 120, 120, 120, 120, 120, 120, 120, 120, 120, 120, 120, 120, 120, 120, 120, 120, 120, 120, 120, 120, 120, 120, 120, 120, 120, 120, 120, 120, 120, 120, 120, 120, 120, 120, 120, 120, 120, 120, 120, 120, 120, 120, 120, 120, 120, 120, 120, 120, 120, 120, 120, 120, 120, 120, 120, 120, 120, 120, 120, 120, 120, 120, 120, 120, 120, 120, 120, 120, 120, 120, 120, 120, 120, 120, 120, 120, 120, 120, 120, 120, 120, 120, 120, 120, 120, 120, 120, 120, 120, 120, 120, 120, 120, 120, 120, 120, 120, 120, 120, 120, 120, 120, 120, 120, 120, 120, 120, 120, 120, 120, 120, 120, 120, 120, 120, 120, 120, 120, 120, 120, 120, 120, 120, 120, 120, 120, 120, 120, 120, 120, 120, 120, 120, 120, 120, 120, 120, 120, 120, 120, 120, 120, 120, 120, 120, 120, 120, 120, 120, 120, 120, 120, 120, 120, 120, 120, 120, 120, 120, 120, 120, 120, 120, 120, 120, 120, 120, 120, 120, 120, 120, 120, 120, 120, 120, 120, 120, 120, 120, 120, 120, 120, 120, 120, 120, 120]\n"
          ]
        },
        {
          "output_type": "display_data",
          "data": {
            "text/plain": [
              "<IPython.core.display.Markdown object>"
            ],
            "text/markdown": "**Average Profit using Value Iteration Policy: 120.00**"
          },
          "metadata": {}
        },
        {
          "output_type": "stream",
          "name": "stdout",
          "text": [
            "\n",
            "Simulating Policy Iteration Policy...\n",
            "[120, 120, 120, 120, 120, 120, 120, 120, 120, 120, 120, 120, 120, 120, 120, 120, 120, 120, 120, 120, 120, 120, 120, 120, 120, 120, 120, 120, 120, 120, 120, 120, 120, 120, 120, 120, 120, 120, 120, 120, 120, 120, 120, 120, 120, 120, 120, 120, 120, 120, 120, 120, 120, 120, 120, 120, 120, 120, 120, 120, 120, 120, 120, 120, 120, 120, 120, 120, 120, 120, 120, 120, 120, 120, 120, 120, 120, 120, 120, 120, 120, 120, 120, 120, 120, 120, 120, 120, 120, 120, 120, 120, 120, 120, 120, 120, 120, 120, 120, 120, 120, 120, 120, 120, 120, 120, 120, 120, 120, 120, 120, 120, 120, 120, 120, 120, 120, 120, 120, 120, 120, 120, 120, 120, 120, 120, 120, 120, 120, 120, 120, 120, 120, 120, 120, 120, 120, 120, 120, 120, 120, 120, 120, 120, 120, 120, 120, 120, 120, 120, 120, 120, 120, 120, 120, 120, 120, 120, 120, 120, 120, 120, 120, 120, 120, 120, 120, 120, 120, 120, 120, 120, 120, 120, 120, 120, 120, 120, 120, 120, 120, 120, 120, 120, 120, 120, 120, 120, 120, 120, 120, 120, 120, 120, 120, 120, 120, 120, 120, 120, 120, 120, 120, 120, 120, 120, 120, 120, 120, 120, 120, 120, 120, 120, 120, 120, 120, 120, 120, 120, 120, 120, 120, 120, 120, 120, 120, 120, 120, 120, 120, 120, 120, 120, 120, 120, 120, 120, 120, 120, 120, 120, 120, 120, 120, 120, 120, 120, 120, 120, 120, 120, 120, 120, 120, 120, 120, 120, 120, 120, 120, 120, 120, 120, 120, 120, 120, 120, 120, 120, 120, 120, 120, 120, 120, 120, 120, 120, 120, 120, 120, 120, 120, 120, 120, 120, 120, 120, 120, 120, 120, 120, 120, 120, 120, 120, 120, 120, 120, 120, 120, 120, 120, 120, 120, 120, 120, 120, 120, 120, 120, 120, 120, 120, 120, 120, 120, 120, 120, 120, 120, 120, 120, 120, 120, 120, 120, 120, 120, 120, 120, 120, 120, 120, 120, 120, 120, 120, 120, 120, 120, 120, 120, 120, 120, 120, 120, 120, 120, 120, 120, 120, 120, 120, 120, 120, 120, 120, 120, 120, 120, 120, 120, 120, 120, 120, 120, 120, 120, 120, 120, 120, 120, 120, 120, 120, 120, 120, 120, 120, 120, 120, 120, 120, 120, 120, 120, 120, 120, 120, 120, 120, 120, 120, 120, 120, 120, 120, 120, 120, 120, 120, 120, 120, 120, 120, 120, 120, 120, 120, 120, 120, 120, 120, 120, 120, 120, 120, 120, 120, 120, 120, 120, 120, 120, 120, 120, 120, 120, 120, 120, 120, 120, 120, 120, 120, 120, 120, 120, 120, 120, 120, 120, 120, 120, 120, 120, 120, 120, 120, 120, 120, 120, 120, 120, 120, 120, 120, 120, 120, 120, 120, 120, 120, 120, 120, 120, 120, 120, 120, 120, 120, 120, 120, 120, 120, 120, 120, 120, 120, 120, 120, 120, 120, 120, 120, 120, 120, 120, 120, 120, 120, 120, 120, 120, 120, 120, 120, 120, 120, 120, 120, 120, 120, 120, 120, 120, 120, 120, 120, 120, 120, 120, 120, 120, 120, 120, 120, 120, 120, 120, 120, 120, 120, 120, 120, 120, 120, 120, 120, 120, 120, 120, 120, 120, 120, 120, 120, 120, 120, 120, 120, 120, 120, 120, 120, 120, 120, 120, 120, 120, 120, 120, 120, 120, 120, 120, 120, 120, 120, 120, 120, 120, 120, 120, 120, 120, 120, 120, 120, 120, 120, 120, 120, 120, 120, 120, 120, 120, 120, 120, 120, 120, 120, 120, 120, 120, 120, 120, 120, 120, 120, 120, 120, 120, 120, 120, 120, 120, 120, 120, 120, 120, 120, 120, 120, 120, 120, 120, 120, 120, 120, 120, 120, 120, 120, 120, 120, 120, 120, 120, 120, 120, 120, 120, 120, 120, 120, 120, 120, 120, 120, 120, 120, 120, 120, 120, 120, 120, 120, 120, 120, 120, 120, 120, 120, 120, 120, 120, 120, 120, 120, 120, 120, 120, 120, 120, 120, 120, 120, 120, 120, 120, 120, 120, 120, 120, 120, 120, 120, 120, 120, 120, 120, 120, 120, 120, 120, 120, 120, 120, 120, 120, 120, 120, 120, 120, 120, 120, 120, 120, 120, 120, 120, 120, 120, 120, 120, 120, 120, 120, 120, 120, 120, 120, 120, 120, 120, 120, 120, 120, 120, 120, 120, 120, 120, 120, 120, 120, 120, 120, 120, 120, 120, 120, 120, 120, 120, 120, 120, 120, 120, 120, 120, 120, 120, 120, 120, 120, 120, 120, 120, 120, 120, 120, 120, 120, 120, 120, 120, 120, 120, 120, 120, 120, 120, 120, 120, 120, 120, 120, 120, 120, 120, 120, 120, 120, 120, 120, 120, 120, 120, 120, 120, 120, 120, 120, 120, 120, 120, 120, 120, 120, 120, 120, 120, 120, 120, 120, 120, 120, 120, 120, 120, 120, 120, 120, 120, 120, 120, 120, 120, 120, 120, 120, 120, 120, 120, 120, 120, 120, 120, 120, 120, 120, 120, 120, 120, 120, 120, 120, 120, 120, 120, 120, 120, 120, 120, 120, 120, 120, 120, 120, 120, 120, 120, 120, 120, 120, 120, 120, 120, 120, 120, 120, 120, 120, 120, 120, 120, 120, 120, 120, 120, 120, 120, 120, 120, 120, 120, 120, 120, 120, 120, 120, 120, 120, 120, 120, 120, 120, 120, 120, 120, 120, 120, 120, 120, 120, 120, 120, 120, 120, 120, 120, 120, 120, 120, 120, 120, 120, 120, 120, 120, 120, 120, 120, 120, 120, 120, 120, 120, 120, 120, 120, 120, 120, 120, 120, 120, 120, 120, 120, 120, 120, 120, 120, 120, 120, 120, 120, 120, 120, 120, 120, 120, 120, 120, 120, 120, 120, 120, 120, 120, 120, 120, 120, 120, 120, 120, 120, 120, 120, 120, 120, 120, 120, 120, 120, 120, 120, 120, 120, 120, 120, 120, 120, 120, 120, 120, 120, 120, 120, 120, 120, 120, 120, 120, 120, 120, 120, 120, 120, 120, 120, 120, 120, 120, 120, 120, 120, 120, 120, 120, 120, 120, 120, 120, 120, 120, 120, 120, 120, 120, 120, 120, 120, 120, 120, 120]\n"
          ]
        },
        {
          "output_type": "display_data",
          "data": {
            "text/plain": [
              "<IPython.core.display.Markdown object>"
            ],
            "text/markdown": "**Average Profit using Policy Iteration Policy: 120.00**"
          },
          "metadata": {}
        }
      ]
    },
    {
      "cell_type": "markdown",
      "source": [
        "**Fixed Market State 2**"
      ],
      "metadata": {
        "id": "tyv6yXBza_6g"
      },
      "id": "tyv6yXBza_6g"
    },
    {
      "cell_type": "code",
      "source": [
        "# --- Main Execution ---\n",
        "# Instantiate environment\n",
        "fixed_prices_env= SmartSupplierEnv(num_days=5, initial_rm=10, fixed_market=2)\n",
        "\n",
        "# Run Value Iteration\n",
        "print(\"\\nInstantiating Value Iteration ...\")\n",
        "fixed_prices_vi_agent = ValueIterationAgent(fixed_prices_env, gamma=1.0, theta=1e-4)\n",
        "fixed_prices_vi_policy, fixed_prices_vi_values = fixed_prices_vi_agent.run()\n",
        "print(\"Value Iteration run Successfully.\")\n",
        "\n",
        "# Run Policy Iteration\n",
        "print(\"\\nInstantiating Policy Iteration ...\")\n",
        "fixed_prices_pi_agent = PolicyIterationAgent(fixed_prices_env, gamma=1.0)\n",
        "fixed_prices_pi_policy, fixed_prices_pi_values = fixed_prices_pi_agent.run()\n",
        "print(\"Policy Iteration run Successfully.\")"
      ],
      "metadata": {
        "id": "hsP7O7fjaw7O",
        "outputId": "b2a2baf7-2c0f-4a70-bbd4-57759302e84a",
        "colab": {
          "base_uri": "https://localhost:8080/"
        }
      },
      "id": "hsP7O7fjaw7O",
      "execution_count": 69,
      "outputs": [
        {
          "output_type": "stream",
          "name": "stdout",
          "text": [
            "market_states:  {2: {'A_price': 3, 'B_price': 5}}\n",
            "\n",
            "Instantiating Value Iteration ...\n",
            "delta: 25.0, theta: 0.0001\n",
            "delta: 12.5, theta: 0.0001\n",
            "delta: 6.25, theta: 0.0001\n",
            "delta: 3.125, theta: 0.0001\n",
            "delta: 0.78125, theta: 0.0001\n",
            "delta: 0, theta: 0.0001\n",
            "Value Iteration run Successfully.\n",
            "\n",
            "Instantiating Policy Iteration ...\n",
            "delta: 25.0\n",
            "delta: 12.5\n",
            "delta: 6.25\n",
            "delta: 3.125\n",
            "delta: 0\n",
            "delta: 25.0\n",
            "delta: 9.5\n",
            "delta: 4.75\n",
            "delta: 1.5625\n",
            "delta: 0.78125\n",
            "delta: 0\n",
            "Policy Iteration run Successfully.\n"
          ]
        }
      ]
    },
    {
      "cell_type": "code",
      "source": [
        "\n",
        "# Simulate policy to get average rewards\n",
        "print(\"\\nSimulating Value Iteration Policy...\")\n",
        "average_profit_vi = simulate_policy(fixed_prices_env, fixed_prices_vi_policy, episodes=1000)\n",
        "bold(f\"Average Profit using Value Iteration Policy: {average_profit_vi:.2f}\")\n",
        "\n",
        "print(\"\\nSimulating Policy Iteration Policy...\")\n",
        "average_profit_pi = simulate_policy(fixed_prices_env, fixed_prices_pi_policy, episodes=1000)\n",
        "bold(f\"Average Profit using Policy Iteration Policy: {average_profit_pi:.2f}\")\n"
      ],
      "metadata": {
        "id": "cKAuj8bdaxOy",
        "outputId": "ade16353-dcbc-448a-a28f-b9cee11bee20",
        "colab": {
          "base_uri": "https://localhost:8080/",
          "height": 200
        }
      },
      "id": "cKAuj8bdaxOy",
      "execution_count": 70,
      "outputs": [
        {
          "output_type": "stream",
          "name": "stdout",
          "text": [
            "\n",
            "Simulating Value Iteration Policy...\n",
            "[125, 125, 125, 125, 125, 125, 125, 125, 125, 125, 125, 125, 125, 125, 125, 125, 125, 125, 125, 125, 125, 125, 125, 125, 125, 125, 125, 125, 125, 125, 125, 125, 125, 125, 125, 125, 125, 125, 125, 125, 125, 125, 125, 125, 125, 125, 125, 125, 125, 125, 125, 125, 125, 125, 125, 125, 125, 125, 125, 125, 125, 125, 125, 125, 125, 125, 125, 125, 125, 125, 125, 125, 125, 125, 125, 125, 125, 125, 125, 125, 125, 125, 125, 125, 125, 125, 125, 125, 125, 125, 125, 125, 125, 125, 125, 125, 125, 125, 125, 125, 125, 125, 125, 125, 125, 125, 125, 125, 125, 125, 125, 125, 125, 125, 125, 125, 125, 125, 125, 125, 125, 125, 125, 125, 125, 125, 125, 125, 125, 125, 125, 125, 125, 125, 125, 125, 125, 125, 125, 125, 125, 125, 125, 125, 125, 125, 125, 125, 125, 125, 125, 125, 125, 125, 125, 125, 125, 125, 125, 125, 125, 125, 125, 125, 125, 125, 125, 125, 125, 125, 125, 125, 125, 125, 125, 125, 125, 125, 125, 125, 125, 125, 125, 125, 125, 125, 125, 125, 125, 125, 125, 125, 125, 125, 125, 125, 125, 125, 125, 125, 125, 125, 125, 125, 125, 125, 125, 125, 125, 125, 125, 125, 125, 125, 125, 125, 125, 125, 125, 125, 125, 125, 125, 125, 125, 125, 125, 125, 125, 125, 125, 125, 125, 125, 125, 125, 125, 125, 125, 125, 125, 125, 125, 125, 125, 125, 125, 125, 125, 125, 125, 125, 125, 125, 125, 125, 125, 125, 125, 125, 125, 125, 125, 125, 125, 125, 125, 125, 125, 125, 125, 125, 125, 125, 125, 125, 125, 125, 125, 125, 125, 125, 125, 125, 125, 125, 125, 125, 125, 125, 125, 125, 125, 125, 125, 125, 125, 125, 125, 125, 125, 125, 125, 125, 125, 125, 125, 125, 125, 125, 125, 125, 125, 125, 125, 125, 125, 125, 125, 125, 125, 125, 125, 125, 125, 125, 125, 125, 125, 125, 125, 125, 125, 125, 125, 125, 125, 125, 125, 125, 125, 125, 125, 125, 125, 125, 125, 125, 125, 125, 125, 125, 125, 125, 125, 125, 125, 125, 125, 125, 125, 125, 125, 125, 125, 125, 125, 125, 125, 125, 125, 125, 125, 125, 125, 125, 125, 125, 125, 125, 125, 125, 125, 125, 125, 125, 125, 125, 125, 125, 125, 125, 125, 125, 125, 125, 125, 125, 125, 125, 125, 125, 125, 125, 125, 125, 125, 125, 125, 125, 125, 125, 125, 125, 125, 125, 125, 125, 125, 125, 125, 125, 125, 125, 125, 125, 125, 125, 125, 125, 125, 125, 125, 125, 125, 125, 125, 125, 125, 125, 125, 125, 125, 125, 125, 125, 125, 125, 125, 125, 125, 125, 125, 125, 125, 125, 125, 125, 125, 125, 125, 125, 125, 125, 125, 125, 125, 125, 125, 125, 125, 125, 125, 125, 125, 125, 125, 125, 125, 125, 125, 125, 125, 125, 125, 125, 125, 125, 125, 125, 125, 125, 125, 125, 125, 125, 125, 125, 125, 125, 125, 125, 125, 125, 125, 125, 125, 125, 125, 125, 125, 125, 125, 125, 125, 125, 125, 125, 125, 125, 125, 125, 125, 125, 125, 125, 125, 125, 125, 125, 125, 125, 125, 125, 125, 125, 125, 125, 125, 125, 125, 125, 125, 125, 125, 125, 125, 125, 125, 125, 125, 125, 125, 125, 125, 125, 125, 125, 125, 125, 125, 125, 125, 125, 125, 125, 125, 125, 125, 125, 125, 125, 125, 125, 125, 125, 125, 125, 125, 125, 125, 125, 125, 125, 125, 125, 125, 125, 125, 125, 125, 125, 125, 125, 125, 125, 125, 125, 125, 125, 125, 125, 125, 125, 125, 125, 125, 125, 125, 125, 125, 125, 125, 125, 125, 125, 125, 125, 125, 125, 125, 125, 125, 125, 125, 125, 125, 125, 125, 125, 125, 125, 125, 125, 125, 125, 125, 125, 125, 125, 125, 125, 125, 125, 125, 125, 125, 125, 125, 125, 125, 125, 125, 125, 125, 125, 125, 125, 125, 125, 125, 125, 125, 125, 125, 125, 125, 125, 125, 125, 125, 125, 125, 125, 125, 125, 125, 125, 125, 125, 125, 125, 125, 125, 125, 125, 125, 125, 125, 125, 125, 125, 125, 125, 125, 125, 125, 125, 125, 125, 125, 125, 125, 125, 125, 125, 125, 125, 125, 125, 125, 125, 125, 125, 125, 125, 125, 125, 125, 125, 125, 125, 125, 125, 125, 125, 125, 125, 125, 125, 125, 125, 125, 125, 125, 125, 125, 125, 125, 125, 125, 125, 125, 125, 125, 125, 125, 125, 125, 125, 125, 125, 125, 125, 125, 125, 125, 125, 125, 125, 125, 125, 125, 125, 125, 125, 125, 125, 125, 125, 125, 125, 125, 125, 125, 125, 125, 125, 125, 125, 125, 125, 125, 125, 125, 125, 125, 125, 125, 125, 125, 125, 125, 125, 125, 125, 125, 125, 125, 125, 125, 125, 125, 125, 125, 125, 125, 125, 125, 125, 125, 125, 125, 125, 125, 125, 125, 125, 125, 125, 125, 125, 125, 125, 125, 125, 125, 125, 125, 125, 125, 125, 125, 125, 125, 125, 125, 125, 125, 125, 125, 125, 125, 125, 125, 125, 125, 125, 125, 125, 125, 125, 125, 125, 125, 125, 125, 125, 125, 125, 125, 125, 125, 125, 125, 125, 125, 125, 125, 125, 125, 125, 125, 125, 125, 125, 125, 125, 125, 125, 125, 125, 125, 125, 125, 125, 125, 125, 125, 125, 125, 125, 125, 125, 125, 125, 125, 125, 125, 125, 125, 125, 125, 125, 125, 125, 125, 125, 125, 125, 125, 125, 125, 125, 125, 125, 125, 125, 125, 125, 125, 125, 125, 125, 125, 125, 125, 125, 125, 125, 125, 125, 125, 125, 125, 125, 125, 125, 125, 125, 125, 125, 125, 125, 125, 125, 125, 125, 125, 125, 125, 125, 125, 125, 125, 125, 125, 125, 125, 125, 125, 125, 125, 125, 125, 125, 125, 125, 125, 125, 125, 125, 125, 125, 125, 125, 125, 125, 125, 125, 125, 125, 125, 125, 125, 125, 125, 125, 125, 125, 125, 125, 125, 125, 125, 125, 125, 125, 125, 125]\n"
          ]
        },
        {
          "output_type": "display_data",
          "data": {
            "text/plain": [
              "<IPython.core.display.Markdown object>"
            ],
            "text/markdown": "**Average Profit using Value Iteration Policy: 125.00**"
          },
          "metadata": {}
        },
        {
          "output_type": "stream",
          "name": "stdout",
          "text": [
            "\n",
            "Simulating Policy Iteration Policy...\n",
            "[125, 125, 125, 125, 125, 125, 125, 125, 125, 125, 125, 125, 125, 125, 125, 125, 125, 125, 125, 125, 125, 125, 125, 125, 125, 125, 125, 125, 125, 125, 125, 125, 125, 125, 125, 125, 125, 125, 125, 125, 125, 125, 125, 125, 125, 125, 125, 125, 125, 125, 125, 125, 125, 125, 125, 125, 125, 125, 125, 125, 125, 125, 125, 125, 125, 125, 125, 125, 125, 125, 125, 125, 125, 125, 125, 125, 125, 125, 125, 125, 125, 125, 125, 125, 125, 125, 125, 125, 125, 125, 125, 125, 125, 125, 125, 125, 125, 125, 125, 125, 125, 125, 125, 125, 125, 125, 125, 125, 125, 125, 125, 125, 125, 125, 125, 125, 125, 125, 125, 125, 125, 125, 125, 125, 125, 125, 125, 125, 125, 125, 125, 125, 125, 125, 125, 125, 125, 125, 125, 125, 125, 125, 125, 125, 125, 125, 125, 125, 125, 125, 125, 125, 125, 125, 125, 125, 125, 125, 125, 125, 125, 125, 125, 125, 125, 125, 125, 125, 125, 125, 125, 125, 125, 125, 125, 125, 125, 125, 125, 125, 125, 125, 125, 125, 125, 125, 125, 125, 125, 125, 125, 125, 125, 125, 125, 125, 125, 125, 125, 125, 125, 125, 125, 125, 125, 125, 125, 125, 125, 125, 125, 125, 125, 125, 125, 125, 125, 125, 125, 125, 125, 125, 125, 125, 125, 125, 125, 125, 125, 125, 125, 125, 125, 125, 125, 125, 125, 125, 125, 125, 125, 125, 125, 125, 125, 125, 125, 125, 125, 125, 125, 125, 125, 125, 125, 125, 125, 125, 125, 125, 125, 125, 125, 125, 125, 125, 125, 125, 125, 125, 125, 125, 125, 125, 125, 125, 125, 125, 125, 125, 125, 125, 125, 125, 125, 125, 125, 125, 125, 125, 125, 125, 125, 125, 125, 125, 125, 125, 125, 125, 125, 125, 125, 125, 125, 125, 125, 125, 125, 125, 125, 125, 125, 125, 125, 125, 125, 125, 125, 125, 125, 125, 125, 125, 125, 125, 125, 125, 125, 125, 125, 125, 125, 125, 125, 125, 125, 125, 125, 125, 125, 125, 125, 125, 125, 125, 125, 125, 125, 125, 125, 125, 125, 125, 125, 125, 125, 125, 125, 125, 125, 125, 125, 125, 125, 125, 125, 125, 125, 125, 125, 125, 125, 125, 125, 125, 125, 125, 125, 125, 125, 125, 125, 125, 125, 125, 125, 125, 125, 125, 125, 125, 125, 125, 125, 125, 125, 125, 125, 125, 125, 125, 125, 125, 125, 125, 125, 125, 125, 125, 125, 125, 125, 125, 125, 125, 125, 125, 125, 125, 125, 125, 125, 125, 125, 125, 125, 125, 125, 125, 125, 125, 125, 125, 125, 125, 125, 125, 125, 125, 125, 125, 125, 125, 125, 125, 125, 125, 125, 125, 125, 125, 125, 125, 125, 125, 125, 125, 125, 125, 125, 125, 125, 125, 125, 125, 125, 125, 125, 125, 125, 125, 125, 125, 125, 125, 125, 125, 125, 125, 125, 125, 125, 125, 125, 125, 125, 125, 125, 125, 125, 125, 125, 125, 125, 125, 125, 125, 125, 125, 125, 125, 125, 125, 125, 125, 125, 125, 125, 125, 125, 125, 125, 125, 125, 125, 125, 125, 125, 125, 125, 125, 125, 125, 125, 125, 125, 125, 125, 125, 125, 125, 125, 125, 125, 125, 125, 125, 125, 125, 125, 125, 125, 125, 125, 125, 125, 125, 125, 125, 125, 125, 125, 125, 125, 125, 125, 125, 125, 125, 125, 125, 125, 125, 125, 125, 125, 125, 125, 125, 125, 125, 125, 125, 125, 125, 125, 125, 125, 125, 125, 125, 125, 125, 125, 125, 125, 125, 125, 125, 125, 125, 125, 125, 125, 125, 125, 125, 125, 125, 125, 125, 125, 125, 125, 125, 125, 125, 125, 125, 125, 125, 125, 125, 125, 125, 125, 125, 125, 125, 125, 125, 125, 125, 125, 125, 125, 125, 125, 125, 125, 125, 125, 125, 125, 125, 125, 125, 125, 125, 125, 125, 125, 125, 125, 125, 125, 125, 125, 125, 125, 125, 125, 125, 125, 125, 125, 125, 125, 125, 125, 125, 125, 125, 125, 125, 125, 125, 125, 125, 125, 125, 125, 125, 125, 125, 125, 125, 125, 125, 125, 125, 125, 125, 125, 125, 125, 125, 125, 125, 125, 125, 125, 125, 125, 125, 125, 125, 125, 125, 125, 125, 125, 125, 125, 125, 125, 125, 125, 125, 125, 125, 125, 125, 125, 125, 125, 125, 125, 125, 125, 125, 125, 125, 125, 125, 125, 125, 125, 125, 125, 125, 125, 125, 125, 125, 125, 125, 125, 125, 125, 125, 125, 125, 125, 125, 125, 125, 125, 125, 125, 125, 125, 125, 125, 125, 125, 125, 125, 125, 125, 125, 125, 125, 125, 125, 125, 125, 125, 125, 125, 125, 125, 125, 125, 125, 125, 125, 125, 125, 125, 125, 125, 125, 125, 125, 125, 125, 125, 125, 125, 125, 125, 125, 125, 125, 125, 125, 125, 125, 125, 125, 125, 125, 125, 125, 125, 125, 125, 125, 125, 125, 125, 125, 125, 125, 125, 125, 125, 125, 125, 125, 125, 125, 125, 125, 125, 125, 125, 125, 125, 125, 125, 125, 125, 125, 125, 125, 125, 125, 125, 125, 125, 125, 125, 125, 125, 125, 125, 125, 125, 125, 125, 125, 125, 125, 125, 125, 125, 125, 125, 125, 125, 125, 125, 125, 125, 125, 125, 125, 125, 125, 125, 125, 125, 125, 125, 125, 125, 125, 125, 125, 125, 125, 125, 125, 125, 125, 125, 125, 125, 125, 125, 125, 125, 125, 125, 125, 125, 125, 125, 125, 125, 125, 125, 125, 125, 125, 125, 125, 125, 125, 125, 125, 125, 125, 125, 125, 125, 125, 125, 125, 125, 125, 125, 125, 125, 125, 125, 125, 125, 125, 125, 125, 125, 125, 125, 125, 125, 125, 125, 125, 125, 125, 125, 125, 125, 125, 125, 125, 125, 125, 125, 125, 125, 125, 125, 125, 125, 125, 125, 125, 125, 125, 125, 125, 125, 125, 125, 125, 125, 125, 125, 125, 125, 125, 125, 125, 125, 125, 125, 125, 125, 125, 125, 125, 125, 125, 125, 125, 125, 125, 125, 125, 125, 125, 125, 125, 125, 125]\n"
          ]
        },
        {
          "output_type": "display_data",
          "data": {
            "text/plain": [
              "<IPython.core.display.Markdown object>"
            ],
            "text/markdown": "**Average Profit using Policy Iteration Policy: 125.00**"
          },
          "metadata": {}
        }
      ]
    },
    {
      "cell_type": "markdown",
      "source": [
        "**Observation:**  \n",
        "In a fixed Market State 1 scenario, the profit per day is consistently 24, achieved by the optimal action (3A\\_0B), calculated as 3 units × ₹8 = ₹24. Similarly, in a fixed Market State 2, the daily profit is always 25, resulting from the action (0A\\_5B), calculated as 5 units × ₹5 = ₹25. Since the raw material resets to 10 units each day, the total profit over 5 days is fixed at ₹120 in Market State 1 and ₹125 in Market State 2. Consequently, the average profit over 1000 episodes remains constant at ₹120 and ₹125 respectively, which represents the maximum achievable profit in each fixed market condition.\n",
        "\n"
      ],
      "metadata": {
        "id": "k5xlJP-8bb0L"
      },
      "id": "k5xlJP-8bb0L"
    },
    {
      "cell_type": "code",
      "source": [],
      "metadata": {
        "id": "4eb9wksahzmr"
      },
      "id": "4eb9wksahzmr",
      "execution_count": 70,
      "outputs": []
    }
  ],
  "metadata": {
    "language_info": {
      "name": "python"
    },
    "colab": {
      "provenance": [],
      "gpuType": "T4",
      "include_colab_link": true
    },
    "kernelspec": {
      "name": "python3",
      "display_name": "Python 3"
    },
    "accelerator": "GPU"
  },
  "nbformat": 4,
  "nbformat_minor": 5
}