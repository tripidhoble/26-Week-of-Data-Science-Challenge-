{
 "cells": [
  {
   "cell_type": "markdown",
   "metadata": {},
   "source": [
    "# Week 01"
   ]
  },
  {
   "cell_type": "markdown",
   "metadata": {},
   "source": [
    "Mini Challenge - 1 : \n",
    "Its your turn now!! store the word hello in my_string. print the my_string + name."
   ]
  },
  {
   "cell_type": "code",
   "execution_count": 26,
   "metadata": {},
   "outputs": [
    {
     "name": "stdout",
     "output_type": "stream",
     "text": [
      "hello \"Nilesh\"\n"
     ]
    }
   ],
   "source": [
    "my_string = \"hello\"\n",
    "print(my_string + ' \"Nilesh\"')"
   ]
  },
  {
   "cell_type": "markdown",
   "metadata": {},
   "source": [
    "Mini Challenge - 2 : \n",
    "Its your turn now!!! given the numbers stored in variables a and b. Can you write a simple code to compute the mean of these two numbers and assign it to a variable mean."
   ]
  },
  {
   "cell_type": "code",
   "execution_count": 7,
   "metadata": {},
   "outputs": [
    {
     "name": "stdout",
     "output_type": "stream",
     "text": [
      "mean:  27.0\n"
     ]
    }
   ],
   "source": [
    "a,b = 24,30\n",
    "mean = (a + b)/2\n",
    "print(\"mean: \",mean)"
   ]
  },
  {
   "cell_type": "markdown",
   "metadata": {},
   "source": [
    "Mini Challenge - 3 :\n",
    "Can you access the last element of a l which is a list and find the last element of that list."
   ]
  },
  {
   "cell_type": "code",
   "execution_count": 9,
   "metadata": {},
   "outputs": [
    {
     "name": "stdout",
     "output_type": "stream",
     "text": [
      "lat_element:  15\n"
     ]
    }
   ],
   "source": [
    "l = [1,1,2,2,3,4,5,6,1,15]\n",
    "last_element = l[-1]\n",
    "print(\"lsat_element: \", last_element)"
   ]
  },
  {
   "cell_type": "markdown",
   "metadata": {},
   "source": [
    "Mini Challenge - 4 : Can you compute the square of a number assigned to a variable a using the math module?"
   ]
  },
  {
   "cell_type": "code",
   "execution_count": 14,
   "metadata": {},
   "outputs": [
    {
     "name": "stdout",
     "output_type": "stream",
     "text": [
      "square:  16.0\n"
     ]
    }
   ],
   "source": [
    "import math\n",
    "\n",
    "num = 4\n",
    "square = math.pow(num,2)\n",
    "print(\"square: \",square)"
   ]
  },
  {
   "cell_type": "markdown",
   "metadata": {},
   "source": [
    "Mini Challenge - 5 : \n",
    "Can you create a list of 10 numbers iterate through the list and print the square of each number ?"
   ]
  },
  {
   "cell_type": "code",
   "execution_count": 21,
   "metadata": {},
   "outputs": [
    {
     "name": "stdout",
     "output_type": "stream",
     "text": [
      "numbers_square:  [0, 1, 4, 9, 16, 25, 36, 49, 64, 81, 100]\n"
     ]
    }
   ],
   "source": [
    "numbers = list(range(11))\n",
    "number_square = [(x**2) for x in numbers]\n",
    "print(\"numbers_square: \",number_square)"
   ]
  },
  {
   "cell_type": "markdown",
   "metadata": {},
   "source": [
    "# Week 02"
   ]
  },
  {
   "cell_type": "markdown",
   "metadata": {},
   "source": [
    "\n",
    "Mini Challenge - 1 : \n",
    "Can you write a function square_root having default value of input a=9 and find the square-root of the same."
   ]
  },
  {
   "cell_type": "code",
   "execution_count": 28,
   "metadata": {},
   "outputs": [
    {
     "data": {
      "text/plain": [
       "3.0"
      ]
     },
     "execution_count": 28,
     "metadata": {},
     "output_type": "execute_result"
    }
   ],
   "source": [
    "def square_root(a=9):\n",
    "    return math.sqrt(a)\n",
    "\n",
    "square_root()"
   ]
  },
  {
   "cell_type": "markdown",
   "metadata": {},
   "source": [
    "\n",
    "Mini Challenge - 2 : \n",
    "Can you write a function function_tuple that takes in two numbers a and b and returns the sum as well as the product of these numbers\n"
   ]
  },
  {
   "cell_type": "code",
   "execution_count": 32,
   "metadata": {},
   "outputs": [
    {
     "name": "stdout",
     "output_type": "stream",
     "text": [
      "addition: 11   product: 30\n"
     ]
    }
   ],
   "source": [
    "def function_tuple(a,b):\n",
    "    add = a + b\n",
    "    prod = a * b\n",
    "    return add,prod\n",
    "\n",
    "addition,product = function_tuple(5,6)\n",
    "print(\"addition:\",addition,\"  product:\",product)"
   ]
  },
  {
   "cell_type": "markdown",
   "metadata": {},
   "source": [
    "Mini Challenge - 3 : \n",
    "Can you write a lambda function to add two numbers a and b."
   ]
  },
  {
   "cell_type": "code",
   "execution_count": 34,
   "metadata": {},
   "outputs": [
    {
     "data": {
      "text/plain": [
       "10"
      ]
     },
     "execution_count": 34,
     "metadata": {},
     "output_type": "execute_result"
    }
   ],
   "source": [
    "add = lambda a,b: a + b\n",
    "add(3,7)"
   ]
  },
  {
   "cell_type": "markdown",
   "metadata": {},
   "source": [
    "Mini Challenge - 4 :\n",
    "Create a matrix from the list of lists [[5.3, 10.2, 15.1], [20.4, 25.3, 30.9], [35.4, 40.1,45.6]]. Print the dtype and shape."
   ]
  },
  {
   "cell_type": "code",
   "execution_count": 38,
   "metadata": {},
   "outputs": [
    {
     "name": "stdout",
     "output_type": "stream",
     "text": [
      "[[ 5.3 10.2 15.1]\n",
      " [20.4 25.3 30.9]\n",
      " [35.4 40.1 45.6]]\n",
      "matrix shape (3, 3)\n",
      "matrix type <class 'numpy.ndarray'>\n"
     ]
    }
   ],
   "source": [
    "import numpy as np\n",
    "list1 = [[5.3, 10.2, 15.1], [20.4, 25.3, 30.9], [35.4, 40.1,45.6]]\n",
    "matrix = np.array(list1)\n",
    "print(matrix)\n",
    "print(\"matrix shape\",matrix.shape)\n",
    "print(\"matrix type\",type(matrix))"
   ]
  },
  {
   "cell_type": "code",
   "execution_count": null,
   "metadata": {},
   "outputs": [],
   "source": [
    "Mini Challenge - 5 :\n",
    "Create an ndimensional array from randomly genrated numbers of shape (3,4), then rehape the array to (4,3)"
   ]
  },
  {
   "cell_type": "code",
   "execution_count": 56,
   "metadata": {},
   "outputs": [
    {
     "name": "stdout",
     "output_type": "stream",
     "text": [
      "[[21  6 23 13]\n",
      " [30 44 12  1]\n",
      " [45 38 33  6]]\n",
      "[[21  6 23]\n",
      " [13 30 44]\n",
      " [12  1 45]\n",
      " [38 33  6]]\n"
     ]
    }
   ],
   "source": [
    "ndarray = np.random.randint(50, size=(3, 4))\n",
    "print(ndarray)\n",
    "ndarray.resize(4,3)\n",
    "print(ndarray)"
   ]
  },
  {
   "cell_type": "code",
   "execution_count": null,
   "metadata": {},
   "outputs": [],
   "source": []
  }
 ],
 "metadata": {
  "kernelspec": {
   "display_name": "Python 3",
   "language": "python",
   "name": "python3"
  },
  "language_info": {
   "codemirror_mode": {
    "name": "ipython",
    "version": 3
   },
   "file_extension": ".py",
   "mimetype": "text/x-python",
   "name": "python",
   "nbconvert_exporter": "python",
   "pygments_lexer": "ipython3",
   "version": "3.6.5"
  }
 },
 "nbformat": 4,
 "nbformat_minor": 2
}
