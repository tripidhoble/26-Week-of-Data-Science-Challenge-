{
 "cells": [
  {
   "cell_type": "markdown",
   "metadata": {},
   "source": [
    "# Week 01"
   ]
  },
  {
   "cell_type": "markdown",
   "metadata": {},
   "source": [
    "Mini Challenge - 1 : \n",
    "Its your turn now!! store the word hello in my_string. print the my_string + name."
   ]
  },
  {
   "cell_type": "code",
   "execution_count": 26,
   "metadata": {},
   "outputs": [
    {
     "name": "stdout",
     "output_type": "stream",
     "text": [
      "hello \"Nilesh\"\n"
     ]
    }
   ],
   "source": [
    "my_string = \"hello\"\n",
    "print(my_string + ' \"Nilesh\"')"
   ]
  },
  {
   "cell_type": "markdown",
   "metadata": {},
   "source": [
    "Mini Challenge - 2 : \n",
    "Its your turn now!!! given the numbers stored in variables a and b. Can you write a simple code to compute the mean of these two numbers and assign it to a variable mean."
   ]
  },
  {
   "cell_type": "code",
   "execution_count": 7,
   "metadata": {},
   "outputs": [
    {
     "name": "stdout",
     "output_type": "stream",
     "text": [
      "mean:  27.0\n"
     ]
    }
   ],
   "source": [
    "a,b = 24,30\n",
    "mean = (a + b)/2\n",
    "print(\"mean: \",mean)"
   ]
  },
  {
   "cell_type": "markdown",
   "metadata": {},
   "source": [
    "Mini Challenge - 3 :\n",
    "Can you access the last element of a l which is a list and find the last element of that list."
   ]
  },
  {
   "cell_type": "code",
   "execution_count": 9,
   "metadata": {},
   "outputs": [
    {
     "name": "stdout",
     "output_type": "stream",
     "text": [
      "lat_element:  15\n"
     ]
    }
   ],
   "source": [
    "l = [1,1,2,2,3,4,5,6,1,15]\n",
    "last_element = l[-1]\n",
    "print(\"lsat_element: \", last_element)"
   ]
  },
  {
   "cell_type": "markdown",
   "metadata": {},
   "source": [
    "Mini Challenge - 4 : Can you compute the square of a number assigned to a variable a using the math module?"
   ]
  },
  {
   "cell_type": "code",
   "execution_count": 14,
   "metadata": {},
   "outputs": [
    {
     "name": "stdout",
     "output_type": "stream",
     "text": [
      "square:  16.0\n"
     ]
    }
   ],
   "source": [
    "import math\n",
    "\n",
    "num = 4\n",
    "square = math.pow(num,2)\n",
    "print(\"square: \",square)"
   ]
  },
  {
   "cell_type": "markdown",
   "metadata": {},
   "source": [
    "Mini Challenge - 5 : \n",
    "Can you create a list of 10 numbers iterate through the list and print the square of each number ?"
   ]
  },
  {
   "cell_type": "code",
   "execution_count": 21,
   "metadata": {},
   "outputs": [
    {
     "name": "stdout",
     "output_type": "stream",
     "text": [
      "numbers_square:  [0, 1, 4, 9, 16, 25, 36, 49, 64, 81, 100]\n"
     ]
    }
   ],
   "source": [
    "numbers = list(range(11))\n",
    "number_square = [(x**2) for x in numbers]\n",
    "print(\"numbers_square: \",number_square)"
   ]
  },
  {
   "cell_type": "markdown",
   "metadata": {},
   "source": [
    "# Week 02"
   ]
  },
  {
   "cell_type": "markdown",
   "metadata": {},
   "source": [
    "\n",
    "Mini Challenge - 1 : \n",
    "Can you write a function square_root having default value of input a=9 and find the square-root of the same."
   ]
  },
  {
   "cell_type": "code",
   "execution_count": 28,
   "metadata": {},
   "outputs": [
    {
     "data": {
      "text/plain": [
       "3.0"
      ]
     },
     "execution_count": 28,
     "metadata": {},
     "output_type": "execute_result"
    }
   ],
   "source": [
    "def square_root(a=9):\n",
    "    return math.sqrt(a)\n",
    "\n",
    "square_root()"
   ]
  },
  {
   "cell_type": "markdown",
   "metadata": {},
   "source": [
    "\n",
    "Mini Challenge - 2 : \n",
    "Can you write a function function_tuple that takes in two numbers a and b and returns the sum as well as the product of these numbers\n"
   ]
  },
  {
   "cell_type": "code",
   "execution_count": 32,
   "metadata": {},
   "outputs": [
    {
     "name": "stdout",
     "output_type": "stream",
     "text": [
      "addition: 11   product: 30\n"
     ]
    }
   ],
   "source": [
    "def function_tuple(a,b):\n",
    "    add = a + b\n",
    "    prod = a * b\n",
    "    return add,prod\n",
    "\n",
    "addition,product = function_tuple(5,6)\n",
    "print(\"addition:\",addition,\"  product:\",product)"
   ]
  },
  {
   "cell_type": "markdown",
   "metadata": {},
   "source": [
    "Mini Challenge - 3 : \n",
    "Can you write a lambda function to add two numbers a and b."
   ]
  },
  {
   "cell_type": "code",
   "execution_count": 34,
   "metadata": {},
   "outputs": [
    {
     "data": {
      "text/plain": [
       "10"
      ]
     },
     "execution_count": 34,
     "metadata": {},
     "output_type": "execute_result"
    }
   ],
   "source": [
    "add = lambda a,b: a + b\n",
    "add(3,7)"
   ]
  },
  {
   "cell_type": "raw",
   "metadata": {},
   "source": [
    "Mini Challenge - 4 :\n",
    "Create a matrix from the list of lists [[5.3, 10.2, 15.1], [20.4, 25.3, 30.9], [35.4, 40.1,45.6]]. Print the dtype and shape."
   ]
  },
  {
   "cell_type": "code",
   "execution_count": 38,
   "metadata": {},
   "outputs": [
    {
     "name": "stdout",
     "output_type": "stream",
     "text": [
      "[[ 5.3 10.2 15.1]\n",
      " [20.4 25.3 30.9]\n",
      " [35.4 40.1 45.6]]\n",
      "matrix shape (3, 3)\n",
      "matrix type <class 'numpy.ndarray'>\n"
     ]
    }
   ],
   "source": [
    "import numpy as np\n",
    "list1 = [[5.3, 10.2, 15.1], [20.4, 25.3, 30.9], [35.4, 40.1,45.6]]\n",
    "matrix = np.array(list1)\n",
    "print(matrix)\n",
    "print(\"matrix shape\",matrix.shape)\n",
    "print(\"matrix type\",type(matrix))"
   ]
  },
  {
   "cell_type": "raw",
   "metadata": {},
   "source": [
    "Mini Challenge - 5 :\n",
    "Create an ndimensional array from randomly genrated numbers of shape (3,4), then rehape the array to (4,3)"
   ]
  },
  {
   "cell_type": "code",
   "execution_count": 8,
   "metadata": {},
   "outputs": [
    {
     "name": "stdout",
     "output_type": "stream",
     "text": [
      "[[ 2 39 33 42]\n",
      " [ 0 33  3 21]\n",
      " [ 6 20 20 28]]\n",
      "[[ 2 39 33]\n",
      " [42  0 33]\n",
      " [ 3 21  6]\n",
      " [20 20 28]]\n"
     ]
    }
   ],
   "source": [
    "ndarray = np.random.randint(50, size=(3, 4))\n",
    "print(ndarray)\n",
    "ndarray.resize(4,3)\n",
    "print(ndarray)"
   ]
  },
  {
   "cell_type": "markdown",
   "metadata": {},
   "source": [
    "# Week 03"
   ]
  },
  {
   "cell_type": "raw",
   "metadata": {},
   "source": [
    "Mini Challenge - 1 : \n",
    "Can you locate the number 5 in the array arr"
   ]
  },
  {
   "cell_type": "code",
   "execution_count": 54,
   "metadata": {},
   "outputs": [
    {
     "name": "stdout",
     "output_type": "stream",
     "text": [
      "arr:\n",
      " [[1 2 3]\n",
      " [4 5 6]\n",
      " [7 8 9]]\n",
      "position:  [1] [1]\n"
     ]
    }
   ],
   "source": [
    "import numpy as np\n",
    "arr = np.array([[1,2,3],[4,5,6],[7,8,9]])\n",
    "print(\"arr:\\n\",arr)\n",
    "i,j = np.where(arr==5)\n",
    "print(\"position: \",i,j)\n",
    "\n"
   ]
  },
  {
   "cell_type": "raw",
   "metadata": {},
   "source": [
    "Mini Challenge - 2: \n",
    "Now its your turn again. Can you print the first two rows of the array arr. Also note that you only have to print the first three columns."
   ]
  },
  {
   "cell_type": "code",
   "execution_count": 55,
   "metadata": {},
   "outputs": [
    {
     "name": "stdout",
     "output_type": "stream",
     "text": [
      "[[1 2 3]\n",
      " [6 7 8]]\n"
     ]
    }
   ],
   "source": [
    "arr = np.array([[1, 2, 3, 4, 5],\n",
    "                [6, 7, 8, 9, 10],\n",
    "                [11,12,13,14,15]])\n",
    "print(arr[:2,:3])"
   ]
  },
  {
   "cell_type": "raw",
   "metadata": {},
   "source": [
    "Mini Challenge - 3:\n",
    "Can you find the value of 'USSR' from the series ser1\n",
    "\n"
   ]
  },
  {
   "cell_type": "code",
   "execution_count": 57,
   "metadata": {},
   "outputs": [
    {
     "name": "stdout",
     "output_type": "stream",
     "text": [
      "3\n"
     ]
    }
   ],
   "source": [
    "import pandas as pd\n",
    "ser1 = pd.Series([1,2,3,4], index=['USA', 'Germany','USSR', 'Japan']) \n",
    "ser2 = pd.Series([1,2,5,4], index=['USA', 'Germany','Italy', 'Japan'])\n",
    "print(ser1['USSR'])"
   ]
  },
  {
   "cell_type": "markdown",
   "metadata": {},
   "source": [
    "# Week 04"
   ]
  },
  {
   "cell_type": "code",
   "execution_count": 67,
   "metadata": {},
   "outputs": [
    {
     "name": "stdout",
     "output_type": "stream",
     "text": [
      "             Date/Time  Temp (C)  Dew Point Temp (C)  Rel Hum (%)  \\\n",
      "0  2012-01-01 00:00:00      -1.8                -3.9           86   \n",
      "1  2012-01-01 01:00:00      -1.8                -3.7           87   \n",
      "2  2012-01-01 02:00:00      -1.8                -3.4           89   \n",
      "3  2012-01-01 03:00:00      -1.5                -3.2           88   \n",
      "4  2012-01-01 04:00:00      -1.5                -3.3           88   \n",
      "\n",
      "   Wind Spd (km/h)  Visibility (km)  Stn Press (kPa)               Weather  \n",
      "0                4              8.0           101.24                   Fog  \n",
      "1                4              8.0           101.24                   Fog  \n",
      "2                7              4.0           101.26  Freezing Drizzle,Fog  \n",
      "3                6              4.0           101.27  Freezing Drizzle,Fog  \n",
      "4                7              4.8           101.23                   Fog  \n"
     ]
    }
   ],
   "source": [
    "weather_df = pd.read_csv(\"./data/weather_2012.csv\")\n",
    "print(weather_df.head())"
   ]
  },
  {
   "cell_type": "raw",
   "metadata": {},
   "source": [
    "Mini - Challenge - 1:\n",
    "Find all the unique Wind Speed values recorded in the dataset"
   ]
  },
  {
   "cell_type": "code",
   "execution_count": 69,
   "metadata": {},
   "outputs": [
    {
     "data": {
      "text/plain": [
       "array([ 4,  7,  6,  9, 15, 13, 20, 22, 19, 24, 30, 35, 39, 32, 33, 26, 44,\n",
       "       43, 48, 37, 28, 17, 11,  0, 83, 70, 57, 46, 41, 52, 50, 63, 54,  2],\n",
       "      dtype=int64)"
      ]
     },
     "execution_count": 69,
     "metadata": {},
     "output_type": "execute_result"
    }
   ],
   "source": [
    "weather_df['Wind Spd (km/h)'].unique()"
   ]
  },
  {
   "cell_type": "raw",
   "metadata": {},
   "source": [
    "Mini-Challenge - 2:\n",
    "Find the number of times when the weather was exactly 'Clear'"
   ]
  },
  {
   "cell_type": "code",
   "execution_count": 83,
   "metadata": {},
   "outputs": [
    {
     "data": {
      "text/plain": [
       "1326"
      ]
     },
     "execution_count": 83,
     "metadata": {},
     "output_type": "execute_result"
    }
   ],
   "source": [
    "weather_df['Weather'].value_counts()['Clear']"
   ]
  },
  {
   "cell_type": "raw",
   "metadata": {},
   "source": [
    "Mini-Challenge - 3\n",
    "Try one more time..!!\n",
    "\n",
    "Find the number of times when the wind speed was exactly 4 km/h"
   ]
  },
  {
   "cell_type": "code",
   "execution_count": 88,
   "metadata": {},
   "outputs": [
    {
     "data": {
      "text/plain": [
       "474"
      ]
     },
     "execution_count": 88,
     "metadata": {},
     "output_type": "execute_result"
    }
   ],
   "source": [
    "weather_df['Wind Spd (km/h)'].value_counts()[4]"
   ]
  },
  {
   "cell_type": "raw",
   "metadata": {},
   "source": [
    "Mini-Challenge - 4:\n",
    "Get the first 3 alternating rows from the weather_df dataframe, but only the Visibility and Relative Humidity columns"
   ]
  },
  {
   "cell_type": "code",
   "execution_count": 90,
   "metadata": {},
   "outputs": [
    {
     "data": {
      "text/html": [
       "<div>\n",
       "<style scoped>\n",
       "    .dataframe tbody tr th:only-of-type {\n",
       "        vertical-align: middle;\n",
       "    }\n",
       "\n",
       "    .dataframe tbody tr th {\n",
       "        vertical-align: top;\n",
       "    }\n",
       "\n",
       "    .dataframe thead th {\n",
       "        text-align: right;\n",
       "    }\n",
       "</style>\n",
       "<table border=\"1\" class=\"dataframe\">\n",
       "  <thead>\n",
       "    <tr style=\"text-align: right;\">\n",
       "      <th></th>\n",
       "      <th>Visibility (km)</th>\n",
       "      <th>Rel Hum (%)</th>\n",
       "    </tr>\n",
       "  </thead>\n",
       "  <tbody>\n",
       "    <tr>\n",
       "      <th>0</th>\n",
       "      <td>8.0</td>\n",
       "      <td>86</td>\n",
       "    </tr>\n",
       "    <tr>\n",
       "      <th>2</th>\n",
       "      <td>4.0</td>\n",
       "      <td>89</td>\n",
       "    </tr>\n",
       "    <tr>\n",
       "      <th>4</th>\n",
       "      <td>4.8</td>\n",
       "      <td>88</td>\n",
       "    </tr>\n",
       "  </tbody>\n",
       "</table>\n",
       "</div>"
      ],
      "text/plain": [
       "   Visibility (km)  Rel Hum (%)\n",
       "0              8.0           86\n",
       "2              4.0           89\n",
       "4              4.8           88"
      ]
     },
     "execution_count": 90,
     "metadata": {},
     "output_type": "execute_result"
    }
   ],
   "source": [
    "weather_df[['Visibility (km)','Rel Hum (%)']].iloc[:5:2]"
   ]
  },
  {
   "cell_type": "code",
   "execution_count": null,
   "metadata": {},
   "outputs": [],
   "source": []
  }
 ],
 "metadata": {
  "kernelspec": {
   "display_name": "Python 3",
   "language": "python",
   "name": "python3"
  },
  "language_info": {
   "codemirror_mode": {
    "name": "ipython",
    "version": 3
   },
   "file_extension": ".py",
   "mimetype": "text/x-python",
   "name": "python",
   "nbconvert_exporter": "python",
   "pygments_lexer": "ipython3",
   "version": "3.6.4"
  }
 },
 "nbformat": 4,
 "nbformat_minor": 2
}
